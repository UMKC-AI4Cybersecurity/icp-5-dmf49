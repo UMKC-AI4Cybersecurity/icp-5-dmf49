{
  "cells": [
    {
      "cell_type": "markdown",
      "metadata": {
        "id": "4z1ou2DMHZqW"
      },
      "source": [
        "# Section: Federated Learning"
      ]
    },
    {
      "cell_type": "markdown",
      "metadata": {
        "id": "Vhl7vdgsHZqa"
      },
      "source": [
        "# Lesson: Introducing Federated Learning\n",
        "\n",
        "Federated Learning is a technique for training Deep Learning models on data to which you do not have access. Basically:\n",
        "\n",
        "Federated Learning: Instead of bringing all the data to one machine and training a model, we bring the model to the data, train it locally, and merely upload \"model updates\" to a central server.\n",
        "\n",
        "Use Cases:\n",
        "\n",
        "    - app company (Texting prediction app)\n",
        "    - predictive maintenance (automobiles / industrial engines)\n",
        "    - wearable medical devices\n",
        "    - ad blockers / autotomplete in browsers (Firefox/Brave)\n",
        "    \n",
        "Challenge Description: data is distributed amongst sources but we cannot aggregated it because of:\n",
        "\n",
        "    - privacy concerns: legal, user discomfort, competitive dynamics\n",
        "    - engineering: the bandwidth/storage requirements of aggregating the larger dataset"
      ]
    },
    {
      "cell_type": "markdown",
      "metadata": {
        "id": "SsT-gJpLHZqb"
      },
      "source": [
        "# Lesson: Introducing / Installing PySyft\n",
        "\n",
        "In order to perform Federated Learning, we need to be able to use Deep Learning techniques on remote machines. This will require a new set of tools. Specifically, we will use an extensin of PyTorch called PySyft.\n",
        "\n",
        "### Install PySyft\n",
        "\n",
        "The easiest way to install the required libraries is with [Conda](https://docs.conda.io/projects/conda/en/latest/user-guide/overview.html). Create a new environment, then install the dependencies in that environment. In your terminal:\n",
        "\n",
        "```bash\n",
        "conda create -n pysyft python=3\n",
        "conda activate pysyft # some older version of conda require \"source activate pysyft\" instead.\n",
        "conda install jupyter notebook\n",
        "pip install syft\n",
        "pip install numpy\n",
        "```\n",
        "\n",
        "If you have any errors relating to zstd - run the following (if everything above installed fine then skip this step):\n",
        "\n",
        "```\n",
        "pip install --upgrade --force-reinstall zstd\n",
        "```\n",
        "\n",
        "and then retry installing syft (pip install syft).\n",
        "\n",
        "If you are using Windows, I suggest installing [Anaconda and using the Anaconda Prompt](https://docs.anaconda.com/anaconda/user-guide/getting-started/) to work from the command line. \n",
        "\n",
        "With this environment activated and in the repo directory, launch Jupyter Notebook:\n",
        "\n",
        "```bash\n",
        "jupyter notebook\n",
        "```\n",
        "\n",
        "and re-open this notebook on the new Jupyter server.\n",
        "\n",
        "If any part of this doesn't work for you (or any of the tests fail) - first check the [README](https://github.com/OpenMined/PySyft.git) for installation help and then open a Github Issue or ping the #beginner channel in our slack! [slack.openmined.org](http://slack.openmined.org/)"
      ]
    },
    {
      "cell_type": "code",
      "source": [
        "!pip install syft==0.2.9"
      ],
      "metadata": {
        "colab": {
          "base_uri": "https://localhost:8080/",
          "height": 1000
        },
        "id": "YS7UWw0SJbNH",
        "outputId": "4ede7df0-bc35-4a88-cfb5-f162922c3229"
      },
      "execution_count": 1,
      "outputs": [
        {
          "output_type": "stream",
          "name": "stdout",
          "text": [
            "Collecting syft==0.2.9\n",
            "  Downloading syft-0.2.9-py3-none-any.whl (433 kB)\n",
            "\u001b[K     |████████████████████████████████| 433 kB 29.9 MB/s \n",
            "\u001b[?25hCollecting notebook==5.7.8\n",
            "  Downloading notebook-5.7.8-py2.py3-none-any.whl (9.0 MB)\n",
            "\u001b[K     |████████████████████████████████| 9.0 MB 36.4 MB/s \n",
            "\u001b[?25hRequirement already satisfied: Flask~=1.1.1 in /usr/local/lib/python3.7/dist-packages (from syft==0.2.9) (1.1.4)\n",
            "Collecting phe~=1.4.0\n",
            "  Downloading phe-1.4.0.tar.gz (35 kB)\n",
            "Collecting syft-proto~=0.5.2\n",
            "  Downloading syft_proto-0.5.3-py3-none-any.whl (66 kB)\n",
            "\u001b[K     |████████████████████████████████| 66 kB 4.2 MB/s \n",
            "\u001b[?25hCollecting openmined.threepio==0.2.0\n",
            "  Downloading openmined.threepio-0.2.0.tar.gz (73 kB)\n",
            "\u001b[K     |████████████████████████████████| 73 kB 2.2 MB/s \n",
            "\u001b[?25hCollecting websocket-client~=0.57.0\n",
            "  Downloading websocket_client-0.57.0-py2.py3-none-any.whl (200 kB)\n",
            "\u001b[K     |████████████████████████████████| 200 kB 45.0 MB/s \n",
            "\u001b[?25hCollecting torch~=1.4.0\n",
            "  Downloading torch-1.4.0-cp37-cp37m-manylinux1_x86_64.whl (753.4 MB)\n",
            "\u001b[K     |████████████████████████████████| 753.4 MB 6.5 kB/s \n",
            "\u001b[?25hCollecting requests~=2.22.0\n",
            "  Downloading requests-2.22.0-py2.py3-none-any.whl (57 kB)\n",
            "\u001b[K     |████████████████████████████████| 57 kB 6.1 MB/s \n",
            "\u001b[?25hRequirement already satisfied: Pillow>=7.1.0 in /usr/local/lib/python3.7/dist-packages (from syft==0.2.9) (7.1.2)\n",
            "Collecting importlib-resources~=1.5.0\n",
            "  Downloading importlib_resources-1.5.0-py2.py3-none-any.whl (21 kB)\n",
            "Requirement already satisfied: msgpack~=1.0.0 in /usr/local/lib/python3.7/dist-packages (from syft==0.2.9) (1.0.3)\n",
            "Collecting tornado==4.5.3\n",
            "  Downloading tornado-4.5.3.tar.gz (484 kB)\n",
            "\u001b[K     |████████████████████████████████| 484 kB 51.9 MB/s \n",
            "\u001b[?25hCollecting tblib~=1.6.0\n",
            "  Downloading tblib-1.6.0-py2.py3-none-any.whl (12 kB)\n",
            "Collecting websockets~=8.1.0\n",
            "  Downloading websockets-8.1-cp37-cp37m-manylinux2010_x86_64.whl (79 kB)\n",
            "\u001b[K     |████████████████████████████████| 79 kB 8.0 MB/s \n",
            "\u001b[?25hCollecting flask-socketio~=4.2.1\n",
            "  Downloading Flask_SocketIO-4.2.1-py2.py3-none-any.whl (16 kB)\n",
            "Collecting torchvision~=0.5.0\n",
            "  Downloading torchvision-0.5.0-cp37-cp37m-manylinux1_x86_64.whl (4.0 MB)\n",
            "\u001b[K     |████████████████████████████████| 4.0 MB 49.2 MB/s \n",
            "\u001b[?25hCollecting psutil==5.7.0\n",
            "  Downloading psutil-5.7.0.tar.gz (449 kB)\n",
            "\u001b[K     |████████████████████████████████| 449 kB 54.0 MB/s \n",
            "\u001b[?25hRequirement already satisfied: dill~=0.3.1 in /usr/local/lib/python3.7/dist-packages (from syft==0.2.9) (0.3.4)\n",
            "Collecting numpy~=1.18.1\n",
            "  Downloading numpy-1.18.5-cp37-cp37m-manylinux1_x86_64.whl (20.1 MB)\n",
            "\u001b[K     |████████████████████████████████| 20.1 MB 1.2 MB/s \n",
            "\u001b[?25hCollecting RestrictedPython~=5.0\n",
            "  Downloading RestrictedPython-5.2-py2.py3-none-any.whl (28 kB)\n",
            "Collecting aiortc==0.9.28\n",
            "  Downloading aiortc-0.9.28-cp37-cp37m-manylinux2010_x86_64.whl (2.0 MB)\n",
            "\u001b[K     |████████████████████████████████| 2.0 MB 51.1 MB/s \n",
            "\u001b[?25hRequirement already satisfied: scipy~=1.4.1 in /usr/local/lib/python3.7/dist-packages (from syft==0.2.9) (1.4.1)\n",
            "Collecting requests-toolbelt==0.9.1\n",
            "  Downloading requests_toolbelt-0.9.1-py2.py3-none-any.whl (54 kB)\n",
            "\u001b[K     |████████████████████████████████| 54 kB 2.3 MB/s \n",
            "\u001b[?25hCollecting lz4~=3.0.2\n",
            "  Downloading lz4-3.0.2-cp37-cp37m-manylinux2010_x86_64.whl (1.8 MB)\n",
            "\u001b[K     |████████████████████████████████| 1.8 MB 51.8 MB/s \n",
            "\u001b[?25hCollecting shaloop==0.2.1-alpha.11\n",
            "  Downloading shaloop-0.2.1_alpha.11-py3-none-manylinux1_x86_64.whl (126 kB)\n",
            "\u001b[K     |████████████████████████████████| 126 kB 31.5 MB/s \n",
            "\u001b[?25hCollecting pylibsrtp>=0.5.6\n",
            "  Downloading pylibsrtp-0.7.1-cp37-cp37m-manylinux_2_17_x86_64.manylinux2014_x86_64.whl (71 kB)\n",
            "\u001b[K     |████████████████████████████████| 71 kB 9.3 MB/s \n",
            "\u001b[?25hCollecting cryptography>=2.2\n",
            "  Downloading cryptography-36.0.1-cp36-abi3-manylinux_2_24_x86_64.whl (3.6 MB)\n",
            "\u001b[K     |████████████████████████████████| 3.6 MB 37.8 MB/s \n",
            "\u001b[?25hRequirement already satisfied: cffi>=1.0.0 in /usr/local/lib/python3.7/dist-packages (from aiortc==0.9.28->syft==0.2.9) (1.15.0)\n",
            "Collecting crc32c\n",
            "  Downloading crc32c-2.2.post0-cp37-cp37m-manylinux2010_x86_64.whl (49 kB)\n",
            "\u001b[K     |████████████████████████████████| 49 kB 5.5 MB/s \n",
            "\u001b[?25hCollecting aioice<0.7.0,>=0.6.17\n",
            "  Downloading aioice-0.6.18-py3-none-any.whl (19 kB)\n",
            "Collecting pyee>=6.0.0\n",
            "  Downloading pyee-9.0.4-py2.py3-none-any.whl (14 kB)\n",
            "Collecting av<9.0.0,>=8.0.0\n",
            "  Downloading av-8.1.0-cp37-cp37m-manylinux_2_17_x86_64.manylinux2014_x86_64.whl (36.1 MB)\n",
            "\u001b[K     |████████████████████████████████| 36.1 MB 1.2 MB/s \n",
            "\u001b[?25hRequirement already satisfied: terminado>=0.8.1 in /usr/local/lib/python3.7/dist-packages (from notebook==5.7.8->syft==0.2.9) (0.13.1)\n",
            "Requirement already satisfied: ipython-genutils in /usr/local/lib/python3.7/dist-packages (from notebook==5.7.8->syft==0.2.9) (0.2.0)\n",
            "Requirement already satisfied: ipykernel in /usr/local/lib/python3.7/dist-packages (from notebook==5.7.8->syft==0.2.9) (4.10.1)\n",
            "Requirement already satisfied: Send2Trash in /usr/local/lib/python3.7/dist-packages (from notebook==5.7.8->syft==0.2.9) (1.8.0)\n",
            "Requirement already satisfied: nbconvert in /usr/local/lib/python3.7/dist-packages (from notebook==5.7.8->syft==0.2.9) (5.6.1)\n",
            "Requirement already satisfied: traitlets>=4.2.1 in /usr/local/lib/python3.7/dist-packages (from notebook==5.7.8->syft==0.2.9) (5.1.1)\n",
            "Requirement already satisfied: nbformat in /usr/local/lib/python3.7/dist-packages (from notebook==5.7.8->syft==0.2.9) (5.1.3)\n",
            "Requirement already satisfied: jupyter-core>=4.4.0 in /usr/local/lib/python3.7/dist-packages (from notebook==5.7.8->syft==0.2.9) (4.9.2)\n",
            "Requirement already satisfied: pyzmq>=17 in /usr/local/lib/python3.7/dist-packages (from notebook==5.7.8->syft==0.2.9) (22.3.0)\n",
            "Requirement already satisfied: jinja2 in /usr/local/lib/python3.7/dist-packages (from notebook==5.7.8->syft==0.2.9) (2.11.3)\n",
            "Requirement already satisfied: prometheus-client in /usr/local/lib/python3.7/dist-packages (from notebook==5.7.8->syft==0.2.9) (0.13.1)\n",
            "Requirement already satisfied: jupyter-client>=5.2.0 in /usr/local/lib/python3.7/dist-packages (from notebook==5.7.8->syft==0.2.9) (5.3.5)\n",
            "Requirement already satisfied: pycparser>=2 in /usr/local/lib/python3.7/dist-packages (from shaloop==0.2.1-alpha.11->syft==0.2.9) (2.21)\n",
            "Collecting netifaces\n",
            "  Downloading netifaces-0.11.0-cp37-cp37m-manylinux_2_5_x86_64.manylinux1_x86_64.whl (32 kB)\n",
            "Requirement already satisfied: click<8.0,>=5.1 in /usr/local/lib/python3.7/dist-packages (from Flask~=1.1.1->syft==0.2.9) (7.1.2)\n",
            "Requirement already satisfied: itsdangerous<2.0,>=0.24 in /usr/local/lib/python3.7/dist-packages (from Flask~=1.1.1->syft==0.2.9) (1.1.0)\n",
            "Requirement already satisfied: Werkzeug<2.0,>=0.15 in /usr/local/lib/python3.7/dist-packages (from Flask~=1.1.1->syft==0.2.9) (1.0.1)\n",
            "Collecting python-socketio>=4.3.0\n",
            "  Downloading python_socketio-5.5.2-py3-none-any.whl (56 kB)\n",
            "\u001b[K     |████████████████████████████████| 56 kB 3.7 MB/s \n",
            "\u001b[?25hRequirement already satisfied: importlib-metadata in /usr/local/lib/python3.7/dist-packages (from importlib-resources~=1.5.0->syft==0.2.9) (4.11.1)\n",
            "Requirement already satisfied: zipp>=0.4 in /usr/local/lib/python3.7/dist-packages (from importlib-resources~=1.5.0->syft==0.2.9) (3.7.0)\n",
            "Requirement already satisfied: MarkupSafe>=0.23 in /usr/local/lib/python3.7/dist-packages (from jinja2->notebook==5.7.8->syft==0.2.9) (2.0.1)\n",
            "Requirement already satisfied: python-dateutil>=2.1 in /usr/local/lib/python3.7/dist-packages (from jupyter-client>=5.2.0->notebook==5.7.8->syft==0.2.9) (2.8.2)\n",
            "Requirement already satisfied: typing-extensions in /usr/local/lib/python3.7/dist-packages (from pyee>=6.0.0->aiortc==0.9.28->syft==0.2.9) (3.10.0.2)\n",
            "Requirement already satisfied: six>=1.5 in /usr/local/lib/python3.7/dist-packages (from python-dateutil>=2.1->jupyter-client>=5.2.0->notebook==5.7.8->syft==0.2.9) (1.15.0)\n",
            "Collecting python-engineio>=4.3.0\n",
            "  Downloading python_engineio-4.3.1-py3-none-any.whl (52 kB)\n",
            "\u001b[K     |████████████████████████████████| 52 kB 1.4 MB/s \n",
            "\u001b[?25hCollecting bidict>=0.21.0\n",
            "  Downloading bidict-0.21.4-py3-none-any.whl (36 kB)\n",
            "Requirement already satisfied: urllib3!=1.25.0,!=1.25.1,<1.26,>=1.21.1 in /usr/local/lib/python3.7/dist-packages (from requests~=2.22.0->syft==0.2.9) (1.24.3)\n",
            "Requirement already satisfied: certifi>=2017.4.17 in /usr/local/lib/python3.7/dist-packages (from requests~=2.22.0->syft==0.2.9) (2021.10.8)\n",
            "Collecting idna<2.9,>=2.5\n",
            "  Downloading idna-2.8-py2.py3-none-any.whl (58 kB)\n",
            "\u001b[K     |████████████████████████████████| 58 kB 6.0 MB/s \n",
            "\u001b[?25hRequirement already satisfied: chardet<3.1.0,>=3.0.2 in /usr/local/lib/python3.7/dist-packages (from requests~=2.22.0->syft==0.2.9) (3.0.4)\n",
            "Requirement already satisfied: protobuf>=3.12.2 in /usr/local/lib/python3.7/dist-packages (from syft-proto~=0.5.2->syft==0.2.9) (3.17.3)\n",
            "Requirement already satisfied: ptyprocess in /usr/local/lib/python3.7/dist-packages (from terminado>=0.8.1->notebook==5.7.8->syft==0.2.9) (0.7.0)\n",
            "Requirement already satisfied: ipython>=4.0.0 in /usr/local/lib/python3.7/dist-packages (from ipykernel->notebook==5.7.8->syft==0.2.9) (5.5.0)\n",
            "Requirement already satisfied: simplegeneric>0.8 in /usr/local/lib/python3.7/dist-packages (from ipython>=4.0.0->ipykernel->notebook==5.7.8->syft==0.2.9) (0.8.1)\n",
            "Requirement already satisfied: decorator in /usr/local/lib/python3.7/dist-packages (from ipython>=4.0.0->ipykernel->notebook==5.7.8->syft==0.2.9) (4.4.2)\n",
            "Requirement already satisfied: setuptools>=18.5 in /usr/local/lib/python3.7/dist-packages (from ipython>=4.0.0->ipykernel->notebook==5.7.8->syft==0.2.9) (57.4.0)\n",
            "Requirement already satisfied: pexpect in /usr/local/lib/python3.7/dist-packages (from ipython>=4.0.0->ipykernel->notebook==5.7.8->syft==0.2.9) (4.8.0)\n",
            "Requirement already satisfied: pygments in /usr/local/lib/python3.7/dist-packages (from ipython>=4.0.0->ipykernel->notebook==5.7.8->syft==0.2.9) (2.6.1)\n",
            "Requirement already satisfied: pickleshare in /usr/local/lib/python3.7/dist-packages (from ipython>=4.0.0->ipykernel->notebook==5.7.8->syft==0.2.9) (0.7.5)\n",
            "Requirement already satisfied: prompt-toolkit<2.0.0,>=1.0.4 in /usr/local/lib/python3.7/dist-packages (from ipython>=4.0.0->ipykernel->notebook==5.7.8->syft==0.2.9) (1.0.18)\n",
            "Requirement already satisfied: wcwidth in /usr/local/lib/python3.7/dist-packages (from prompt-toolkit<2.0.0,>=1.0.4->ipython>=4.0.0->ipykernel->notebook==5.7.8->syft==0.2.9) (0.2.5)\n",
            "Requirement already satisfied: mistune<2,>=0.8.1 in /usr/local/lib/python3.7/dist-packages (from nbconvert->notebook==5.7.8->syft==0.2.9) (0.8.4)\n",
            "Requirement already satisfied: pandocfilters>=1.4.1 in /usr/local/lib/python3.7/dist-packages (from nbconvert->notebook==5.7.8->syft==0.2.9) (1.5.0)\n",
            "Requirement already satisfied: defusedxml in /usr/local/lib/python3.7/dist-packages (from nbconvert->notebook==5.7.8->syft==0.2.9) (0.7.1)\n",
            "Requirement already satisfied: testpath in /usr/local/lib/python3.7/dist-packages (from nbconvert->notebook==5.7.8->syft==0.2.9) (0.5.0)\n",
            "Requirement already satisfied: bleach in /usr/local/lib/python3.7/dist-packages (from nbconvert->notebook==5.7.8->syft==0.2.9) (4.1.0)\n",
            "Requirement already satisfied: entrypoints>=0.2.2 in /usr/local/lib/python3.7/dist-packages (from nbconvert->notebook==5.7.8->syft==0.2.9) (0.4)\n",
            "Requirement already satisfied: jsonschema!=2.5.0,>=2.4 in /usr/local/lib/python3.7/dist-packages (from nbformat->notebook==5.7.8->syft==0.2.9) (4.3.3)\n",
            "Requirement already satisfied: attrs>=17.4.0 in /usr/local/lib/python3.7/dist-packages (from jsonschema!=2.5.0,>=2.4->nbformat->notebook==5.7.8->syft==0.2.9) (21.4.0)\n",
            "Requirement already satisfied: pyrsistent!=0.17.0,!=0.17.1,!=0.17.2,>=0.14.0 in /usr/local/lib/python3.7/dist-packages (from jsonschema!=2.5.0,>=2.4->nbformat->notebook==5.7.8->syft==0.2.9) (0.18.1)\n",
            "Requirement already satisfied: webencodings in /usr/local/lib/python3.7/dist-packages (from bleach->nbconvert->notebook==5.7.8->syft==0.2.9) (0.5.1)\n",
            "Requirement already satisfied: packaging in /usr/local/lib/python3.7/dist-packages (from bleach->nbconvert->notebook==5.7.8->syft==0.2.9) (21.3)\n",
            "Requirement already satisfied: pyparsing!=3.0.5,>=2.0.2 in /usr/local/lib/python3.7/dist-packages (from packaging->bleach->nbconvert->notebook==5.7.8->syft==0.2.9) (3.0.7)\n",
            "Building wheels for collected packages: openmined.threepio, psutil, tornado, phe\n",
            "  Building wheel for openmined.threepio (setup.py) ... \u001b[?25l\u001b[?25hdone\n",
            "  Created wheel for openmined.threepio: filename=openmined.threepio-0.2.0-py3-none-any.whl size=80094 sha256=a5194afec2f12e93cb3fc654240628982148c1b4b2d4b04c789cd2ca1bda6698\n",
            "  Stored in directory: /root/.cache/pip/wheels/97/3d/ce/4ca4386006e622cb87d5116e5e65026ec021d3cf906a9b3d5d\n",
            "  Building wheel for psutil (setup.py) ... \u001b[?25l\u001b[?25hdone\n",
            "  Created wheel for psutil: filename=psutil-5.7.0-cp37-cp37m-linux_x86_64.whl size=276517 sha256=6e7094edefb7b54e564974ac54cd37525b703d7035a7934552360ee373d81952\n",
            "  Stored in directory: /root/.cache/pip/wheels/b6/e7/50/aee9cc966163d74430f13f208171dee22f11efa4a4a826661c\n",
            "  Building wheel for tornado (setup.py) ... \u001b[?25l\u001b[?25hdone\n",
            "  Created wheel for tornado: filename=tornado-4.5.3-cp37-cp37m-linux_x86_64.whl size=434053 sha256=0b4b45eee4a1a87ab12010645a9a4fdd9a4129c56b998583a22510cac64c1672\n",
            "  Stored in directory: /root/.cache/pip/wheels/a2/45/43/36ec7a893e16c1212a6b1505ded0a2d73cf8e863a0227c8e04\n",
            "  Building wheel for phe (setup.py) ... \u001b[?25l\u001b[?25hdone\n",
            "  Created wheel for phe: filename=phe-1.4.0-py2.py3-none-any.whl size=37362 sha256=3f87eb7a2299bcd0a94d9885e5504feac326678f367db7874f79928c927e033f\n",
            "  Stored in directory: /root/.cache/pip/wheels/bb/ac/9b/b07a04fe6bb1418ab4ee06d6652757aef848b80363c4dac507\n",
            "Successfully built openmined.threepio psutil tornado phe\n",
            "Installing collected packages: importlib-resources, tornado, python-engineio, netifaces, idna, bidict, torch, requests, python-socketio, pylibsrtp, pyee, numpy, cryptography, crc32c, av, aioice, websockets, websocket-client, torchvision, tblib, syft-proto, shaloop, RestrictedPython, requests-toolbelt, psutil, phe, openmined.threepio, notebook, lz4, flask-socketio, aiortc, syft\n",
            "  Attempting uninstall: importlib-resources\n",
            "    Found existing installation: importlib-resources 5.4.0\n",
            "    Uninstalling importlib-resources-5.4.0:\n",
            "      Successfully uninstalled importlib-resources-5.4.0\n",
            "  Attempting uninstall: tornado\n",
            "    Found existing installation: tornado 5.1.1\n",
            "    Uninstalling tornado-5.1.1:\n",
            "      Successfully uninstalled tornado-5.1.1\n",
            "  Attempting uninstall: idna\n",
            "    Found existing installation: idna 2.10\n",
            "    Uninstalling idna-2.10:\n",
            "      Successfully uninstalled idna-2.10\n",
            "  Attempting uninstall: torch\n",
            "    Found existing installation: torch 1.10.0+cu111\n",
            "    Uninstalling torch-1.10.0+cu111:\n",
            "      Successfully uninstalled torch-1.10.0+cu111\n",
            "  Attempting uninstall: requests\n",
            "    Found existing installation: requests 2.23.0\n",
            "    Uninstalling requests-2.23.0:\n",
            "      Successfully uninstalled requests-2.23.0\n",
            "  Attempting uninstall: numpy\n",
            "    Found existing installation: numpy 1.21.5\n",
            "    Uninstalling numpy-1.21.5:\n",
            "      Successfully uninstalled numpy-1.21.5\n",
            "  Attempting uninstall: torchvision\n",
            "    Found existing installation: torchvision 0.11.1+cu111\n",
            "    Uninstalling torchvision-0.11.1+cu111:\n",
            "      Successfully uninstalled torchvision-0.11.1+cu111\n",
            "  Attempting uninstall: tblib\n",
            "    Found existing installation: tblib 1.7.0\n",
            "    Uninstalling tblib-1.7.0:\n",
            "      Successfully uninstalled tblib-1.7.0\n",
            "  Attempting uninstall: psutil\n",
            "    Found existing installation: psutil 5.4.8\n",
            "    Uninstalling psutil-5.4.8:\n",
            "      Successfully uninstalled psutil-5.4.8\n",
            "  Attempting uninstall: notebook\n",
            "    Found existing installation: notebook 5.3.1\n",
            "    Uninstalling notebook-5.3.1:\n",
            "      Successfully uninstalled notebook-5.3.1\n",
            "\u001b[31mERROR: pip's dependency resolver does not currently take into account all the packages that are installed. This behaviour is the source of the following dependency conflicts.\n",
            "tensorflow 2.8.0 requires tf-estimator-nightly==2.8.0.dev2021122109, which is not installed.\n",
            "torchtext 0.11.0 requires torch==1.10.0, but you have torch 1.4.0 which is incompatible.\n",
            "torchaudio 0.10.0+cu111 requires torch==1.10.0, but you have torch 1.4.0 which is incompatible.\n",
            "tensorflow 2.8.0 requires numpy>=1.20, but you have numpy 1.18.5 which is incompatible.\n",
            "tables 3.7.0 requires numpy>=1.19.0, but you have numpy 1.18.5 which is incompatible.\n",
            "google-colab 1.0.0 requires notebook~=5.3.0; python_version >= \"3.0\", but you have notebook 5.7.8 which is incompatible.\n",
            "google-colab 1.0.0 requires requests~=2.23.0, but you have requests 2.22.0 which is incompatible.\n",
            "google-colab 1.0.0 requires tornado~=5.1.0; python_version >= \"3.0\", but you have tornado 4.5.3 which is incompatible.\n",
            "datascience 0.10.6 requires folium==0.2.1, but you have folium 0.8.3 which is incompatible.\n",
            "bokeh 2.3.3 requires tornado>=5.1, but you have tornado 4.5.3 which is incompatible.\n",
            "albumentations 0.1.12 requires imgaug<0.2.7,>=0.2.5, but you have imgaug 0.2.9 which is incompatible.\u001b[0m\n",
            "Successfully installed RestrictedPython-5.2 aioice-0.6.18 aiortc-0.9.28 av-8.1.0 bidict-0.21.4 crc32c-2.2.post0 cryptography-36.0.1 flask-socketio-4.2.1 idna-2.8 importlib-resources-1.5.0 lz4-3.0.2 netifaces-0.11.0 notebook-5.7.8 numpy-1.18.5 openmined.threepio-0.2.0 phe-1.4.0 psutil-5.7.0 pyee-9.0.4 pylibsrtp-0.7.1 python-engineio-4.3.1 python-socketio-5.5.2 requests-2.22.0 requests-toolbelt-0.9.1 shaloop-0.2.1a11 syft-0.2.9 syft-proto-0.5.3 tblib-1.6.0 torch-1.4.0 torchvision-0.5.0 tornado-4.5.3 websocket-client-0.57.0 websockets-8.1\n"
          ]
        },
        {
          "output_type": "display_data",
          "data": {
            "application/vnd.colab-display-data+json": {
              "pip_warning": {
                "packages": [
                  "numpy",
                  "psutil",
                  "tornado"
                ]
              }
            }
          },
          "metadata": {}
        }
      ]
    },
    {
      "cell_type": "code",
      "execution_count": 1,
      "metadata": {
        "id": "FiTkp_BcHZqc"
      },
      "outputs": [],
      "source": [
        "import torch as th"
      ]
    },
    {
      "cell_type": "code",
      "execution_count": 2,
      "metadata": {
        "colab": {
          "base_uri": "https://localhost:8080/"
        },
        "id": "jkiDrKPdHZqc",
        "outputId": "2037d65c-6548-47c5-82cc-a7ca78283b33"
      },
      "outputs": [
        {
          "output_type": "execute_result",
          "data": {
            "text/plain": [
              "tensor([1, 2, 3, 4, 5])"
            ]
          },
          "metadata": {},
          "execution_count": 2
        }
      ],
      "source": [
        "x = th.tensor([1,2,3,4,5])\n",
        "x"
      ]
    },
    {
      "cell_type": "code",
      "execution_count": 3,
      "metadata": {
        "id": "P0_yXt1oHZqd"
      },
      "outputs": [],
      "source": [
        "y = x + x"
      ]
    },
    {
      "cell_type": "code",
      "execution_count": 4,
      "metadata": {
        "colab": {
          "base_uri": "https://localhost:8080/"
        },
        "id": "L7oWAOgeHZqe",
        "outputId": "b82f819f-bb4b-418f-de82-92a559f9d586"
      },
      "outputs": [
        {
          "output_type": "stream",
          "name": "stdout",
          "text": [
            "tensor([ 2,  4,  6,  8, 10])\n"
          ]
        }
      ],
      "source": [
        "print(y)"
      ]
    },
    {
      "cell_type": "code",
      "execution_count": null,
      "metadata": {
        "id": "SKIv0hJGHZqe"
      },
      "outputs": [],
      "source": [
        ""
      ]
    },
    {
      "cell_type": "code",
      "execution_count": 5,
      "metadata": {
        "id": "xznKY_zPHZqf"
      },
      "outputs": [],
      "source": [
        "import syft as sy"
      ]
    },
    {
      "cell_type": "code",
      "execution_count": 6,
      "metadata": {
        "id": "g3sg51JlHZqf"
      },
      "outputs": [],
      "source": [
        "hook = sy.TorchHook(th)"
      ]
    },
    {
      "cell_type": "code",
      "execution_count": 7,
      "metadata": {
        "colab": {
          "base_uri": "https://localhost:8080/"
        },
        "id": "XxdU2tGQHZqg",
        "outputId": "9ba52939-4bd0-4f70-cb31-c1420cbf70cc"
      },
      "outputs": [
        {
          "output_type": "execute_result",
          "data": {
            "text/plain": [
              "tensor([1, 2, 3, 4, 5])"
            ]
          },
          "metadata": {},
          "execution_count": 7
        }
      ],
      "source": [
        "th.tensor([1,2,3,4,5])"
      ]
    },
    {
      "cell_type": "markdown",
      "metadata": {
        "id": "Tx9JKc7ZHZqg"
      },
      "source": [
        "# Lesson: Basic Remote Execution in PySyft"
      ]
    },
    {
      "cell_type": "markdown",
      "metadata": {
        "id": "z5IgUJ_JHZqg"
      },
      "source": [
        "## PySyft => Remote PyTorch\n",
        "\n",
        "The essence of Federated Learning is the ability to train models in parallel on a wide number of machines. Thus, we need the ability to tell remote machines to execute the operations required for Deep Learning.\n",
        "\n",
        "Thus, instead of using Torch tensors - we're now going to work with **pointers** to tensors. Let me show you what I mean. First, let's create a \"pretend\" machine owned by a \"pretend\" person - we'll call him Bob."
      ]
    },
    {
      "cell_type": "code",
      "execution_count": 8,
      "metadata": {
        "id": "kkmKcERkHZqh"
      },
      "outputs": [],
      "source": [
        "bob = sy.VirtualWorker(hook, id=\"bob\")"
      ]
    },
    {
      "cell_type": "code",
      "source": [
        "bob.clear_objects()"
      ],
      "metadata": {
        "colab": {
          "base_uri": "https://localhost:8080/"
        },
        "id": "k_17N1cAIyuD",
        "outputId": "7179367e-58a1-4aa3-e480-cfa04b92e4f0"
      },
      "execution_count": 9,
      "outputs": [
        {
          "output_type": "execute_result",
          "data": {
            "text/plain": [
              "<VirtualWorker id:bob #objects:0>"
            ]
          },
          "metadata": {},
          "execution_count": 9
        }
      ]
    },
    {
      "cell_type": "code",
      "execution_count": 10,
      "metadata": {
        "colab": {
          "base_uri": "https://localhost:8080/"
        },
        "id": "VHV8_O6sHZqh",
        "outputId": "d96fc0b0-e104-46f6-a3ae-a41fa3769c32"
      },
      "outputs": [
        {
          "output_type": "execute_result",
          "data": {
            "text/plain": [
              "{}"
            ]
          },
          "metadata": {},
          "execution_count": 10
        }
      ],
      "source": [
        "bob._objects"
      ]
    },
    {
      "cell_type": "code",
      "execution_count": 11,
      "metadata": {
        "id": "k8YqcRmIHZqh"
      },
      "outputs": [],
      "source": [
        "x = th.tensor([1,2,3,4,5])"
      ]
    },
    {
      "cell_type": "code",
      "execution_count": 12,
      "metadata": {
        "id": "XwSiOZgtHZqh"
      },
      "outputs": [],
      "source": [
        "x = x.send(bob)"
      ]
    },
    {
      "cell_type": "code",
      "execution_count": 13,
      "metadata": {
        "colab": {
          "base_uri": "https://localhost:8080/"
        },
        "id": "uqj2JRQuHZqi",
        "outputId": "8b34ec03-17cd-4d3b-c717-9ab3cc494bbc"
      },
      "outputs": [
        {
          "output_type": "execute_result",
          "data": {
            "text/plain": [
              "{37021677417: tensor([1, 2, 3, 4, 5])}"
            ]
          },
          "metadata": {},
          "execution_count": 13
        }
      ],
      "source": [
        "bob._objects"
      ]
    },
    {
      "cell_type": "code",
      "execution_count": 14,
      "metadata": {
        "colab": {
          "base_uri": "https://localhost:8080/"
        },
        "id": "SEQhplVWHZqi",
        "outputId": "ced90314-3dfb-4476-8dd6-b0d7573ce855"
      },
      "outputs": [
        {
          "output_type": "execute_result",
          "data": {
            "text/plain": [
              "<VirtualWorker id:bob #objects:1>"
            ]
          },
          "metadata": {},
          "execution_count": 14
        }
      ],
      "source": [
        "x.location"
      ]
    },
    {
      "cell_type": "code",
      "execution_count": 15,
      "metadata": {
        "colab": {
          "base_uri": "https://localhost:8080/"
        },
        "id": "4ulE3kzlHZqi",
        "outputId": "e4af00e2-75e1-41dd-cbb1-d11cce2c0702"
      },
      "outputs": [
        {
          "output_type": "execute_result",
          "data": {
            "text/plain": [
              "37021677417"
            ]
          },
          "metadata": {},
          "execution_count": 15
        }
      ],
      "source": [
        "x.id_at_location"
      ]
    },
    {
      "cell_type": "code",
      "execution_count": 16,
      "metadata": {
        "colab": {
          "base_uri": "https://localhost:8080/"
        },
        "id": "4BVxrGGVHZqi",
        "outputId": "49161ce4-8b4c-491c-96b2-8065b3c388f0"
      },
      "outputs": [
        {
          "output_type": "execute_result",
          "data": {
            "text/plain": [
              "33950258702"
            ]
          },
          "metadata": {},
          "execution_count": 16
        }
      ],
      "source": [
        "x.id"
      ]
    },
    {
      "cell_type": "code",
      "execution_count": 17,
      "metadata": {
        "colab": {
          "base_uri": "https://localhost:8080/"
        },
        "id": "VZvGLukKHZqj",
        "outputId": "5bfb56ba-b98e-40d5-e762-18ad15636539"
      },
      "outputs": [
        {
          "output_type": "execute_result",
          "data": {
            "text/plain": [
              "<VirtualWorker id:me #objects:0>"
            ]
          },
          "metadata": {},
          "execution_count": 17
        }
      ],
      "source": [
        "x.owner"
      ]
    },
    {
      "cell_type": "code",
      "execution_count": 18,
      "metadata": {
        "colab": {
          "base_uri": "https://localhost:8080/"
        },
        "id": "RsLwCsH6HZqj",
        "outputId": "2894243d-eb2e-4da3-9e03-307e40291b19"
      },
      "outputs": [
        {
          "output_type": "execute_result",
          "data": {
            "text/plain": [
              "<VirtualWorker id:me #objects:0>"
            ]
          },
          "metadata": {},
          "execution_count": 18
        }
      ],
      "source": [
        "hook.local_worker"
      ]
    },
    {
      "cell_type": "code",
      "execution_count": 19,
      "metadata": {
        "colab": {
          "base_uri": "https://localhost:8080/"
        },
        "id": "U6_YKvIXHZqj",
        "outputId": "c1146740-bec7-43d3-8dac-ebc94f7b5b3e"
      },
      "outputs": [
        {
          "output_type": "execute_result",
          "data": {
            "text/plain": [
              "(Wrapper)>[PointerTensor | me:33950258702 -> bob:37021677417]"
            ]
          },
          "metadata": {},
          "execution_count": 19
        }
      ],
      "source": [
        "x"
      ]
    },
    {
      "cell_type": "code",
      "execution_count": 20,
      "metadata": {
        "colab": {
          "base_uri": "https://localhost:8080/"
        },
        "id": "bj8Cji1CHZqk",
        "outputId": "8195a00d-4cde-4011-ca00-dbf951e97c92"
      },
      "outputs": [
        {
          "output_type": "execute_result",
          "data": {
            "text/plain": [
              "tensor([1, 2, 3, 4, 5])"
            ]
          },
          "metadata": {},
          "execution_count": 20
        }
      ],
      "source": [
        "x = x.get()\n",
        "x"
      ]
    },
    {
      "cell_type": "code",
      "execution_count": 21,
      "metadata": {
        "colab": {
          "base_uri": "https://localhost:8080/"
        },
        "id": "to4XfldvHZqk",
        "outputId": "3ad569d5-99f9-45d6-af1c-9b07d56c0fff"
      },
      "outputs": [
        {
          "output_type": "execute_result",
          "data": {
            "text/plain": [
              "{}"
            ]
          },
          "metadata": {},
          "execution_count": 21
        }
      ],
      "source": [
        "bob._objects"
      ]
    },
    {
      "cell_type": "markdown",
      "metadata": {
        "id": "hdAd2PIaHZqk"
      },
      "source": [
        "# Project: Playing with Remote Tensors\n",
        "\n",
        "In this project, I want you to .send() and .get() a tensor to TWO workers by calling .send(bob,alice). This will first require the creation of another VirtualWorker called alice."
      ]
    },
    {
      "cell_type": "code",
      "execution_count": 22,
      "metadata": {
        "id": "0w3ORrfcHZqk"
      },
      "outputs": [],
      "source": [
        "alice = sy.VirtualWorker(hook, id=\"alice\")"
      ]
    },
    {
      "cell_type": "code",
      "execution_count": 23,
      "metadata": {
        "id": "2XTRW1oHHZqk"
      },
      "outputs": [],
      "source": [
        "x = th.tensor([1,2,3,4,5])"
      ]
    },
    {
      "cell_type": "code",
      "execution_count": 24,
      "metadata": {
        "id": "Pb9PJW8jHZqk"
      },
      "outputs": [],
      "source": [
        "x_ptr = x.send(bob, alice)"
      ]
    },
    {
      "cell_type": "code",
      "execution_count": 25,
      "metadata": {
        "colab": {
          "base_uri": "https://localhost:8080/"
        },
        "id": "C_AGx4ZCHZqk",
        "outputId": "8f16bcb3-1068-4fe7-8cd2-a1154ef103a7"
      },
      "outputs": [
        {
          "output_type": "execute_result",
          "data": {
            "text/plain": [
              "[tensor([1, 2, 3, 4, 5]), tensor([1, 2, 3, 4, 5])]"
            ]
          },
          "metadata": {},
          "execution_count": 25
        }
      ],
      "source": [
        "x_ptr.get()"
      ]
    },
    {
      "cell_type": "code",
      "execution_count": 26,
      "metadata": {
        "id": "XIRtVjDbHZql"
      },
      "outputs": [],
      "source": [
        "x = th.tensor([1,2,3,4,5]).send(bob, alice)"
      ]
    },
    {
      "cell_type": "code",
      "execution_count": 27,
      "metadata": {
        "colab": {
          "base_uri": "https://localhost:8080/"
        },
        "id": "v4OvNApUHZql",
        "outputId": "a2d8e0ab-15d6-4725-c2e7-1a191d9e5040"
      },
      "outputs": [
        {
          "output_type": "execute_result",
          "data": {
            "text/plain": [
              "tensor([ 2,  4,  6,  8, 10])"
            ]
          },
          "metadata": {},
          "execution_count": 27
        }
      ],
      "source": [
        "x.get(sum_results=True)"
      ]
    },
    {
      "cell_type": "code",
      "source": [
        "bob._objects"
      ],
      "metadata": {
        "colab": {
          "base_uri": "https://localhost:8080/"
        },
        "id": "jSIdyCu3Ka8A",
        "outputId": "98a72c82-6d09-40fb-c2c5-9a2ec95b6c9a"
      },
      "execution_count": 28,
      "outputs": [
        {
          "output_type": "execute_result",
          "data": {
            "text/plain": [
              "{}"
            ]
          },
          "metadata": {},
          "execution_count": 28
        }
      ]
    },
    {
      "cell_type": "markdown",
      "metadata": {
        "id": "tlJ5pjy2HZql"
      },
      "source": [
        "# Lesson: Introducing Remote Arithmetic"
      ]
    },
    {
      "cell_type": "code",
      "execution_count": 29,
      "metadata": {
        "id": "a_ZqVht5HZql"
      },
      "outputs": [],
      "source": [
        "x = th.tensor([1,2,3,4,5]).send(bob)\n",
        "y = th.tensor([1,1,1,1,1]).send(bob)"
      ]
    },
    {
      "cell_type": "code",
      "execution_count": 30,
      "metadata": {
        "colab": {
          "base_uri": "https://localhost:8080/"
        },
        "id": "3evRuvD7HZql",
        "outputId": "e7099b39-a842-4f00-9e95-3f7189789901"
      },
      "outputs": [
        {
          "output_type": "execute_result",
          "data": {
            "text/plain": [
              "(Wrapper)>[PointerTensor | me:17105700949 -> bob:90972589524]"
            ]
          },
          "metadata": {},
          "execution_count": 30
        }
      ],
      "source": [
        "x"
      ]
    },
    {
      "cell_type": "code",
      "execution_count": 31,
      "metadata": {
        "colab": {
          "base_uri": "https://localhost:8080/"
        },
        "id": "jMIZatvpHZqm",
        "outputId": "fc63a94b-e57e-4be1-8296-34c6d8bfb1ea"
      },
      "outputs": [
        {
          "output_type": "execute_result",
          "data": {
            "text/plain": [
              "(Wrapper)>[PointerTensor | me:90393416665 -> bob:65699905206]"
            ]
          },
          "metadata": {},
          "execution_count": 31
        }
      ],
      "source": [
        "y"
      ]
    },
    {
      "cell_type": "code",
      "execution_count": 32,
      "metadata": {
        "id": "MHd4IUb1HZqm"
      },
      "outputs": [],
      "source": [
        "z = x + y"
      ]
    },
    {
      "cell_type": "code",
      "execution_count": 33,
      "metadata": {
        "colab": {
          "base_uri": "https://localhost:8080/"
        },
        "id": "tXn8z51lHZqm",
        "outputId": "1e124f1b-56a7-472c-d3c6-83228a20a811"
      },
      "outputs": [
        {
          "output_type": "execute_result",
          "data": {
            "text/plain": [
              "(Wrapper)>[PointerTensor | me:56441402508 -> bob:62336214775]"
            ]
          },
          "metadata": {},
          "execution_count": 33
        }
      ],
      "source": [
        "z"
      ]
    },
    {
      "cell_type": "code",
      "execution_count": 34,
      "metadata": {
        "colab": {
          "base_uri": "https://localhost:8080/"
        },
        "id": "Q4uoRO0bHZqm",
        "outputId": "79e00d37-7d10-46d8-cff7-a34187a55e75"
      },
      "outputs": [
        {
          "output_type": "execute_result",
          "data": {
            "text/plain": [
              "tensor([2, 3, 4, 5, 6])"
            ]
          },
          "metadata": {},
          "execution_count": 34
        }
      ],
      "source": [
        "z = z.get()\n",
        "z"
      ]
    },
    {
      "cell_type": "code",
      "execution_count": 36,
      "metadata": {
        "colab": {
          "base_uri": "https://localhost:8080/"
        },
        "id": "__6DLpQYHZqm",
        "outputId": "999e410d-f99a-45f2-852e-34a7a1fa2585"
      },
      "outputs": [
        {
          "output_type": "execute_result",
          "data": {
            "text/plain": [
              "(Wrapper)>[PointerTensor | me:45961739094 -> bob:75262930259]"
            ]
          },
          "metadata": {},
          "execution_count": 36
        }
      ],
      "source": [
        "z = th.add(x,y)\n",
        "z"
      ]
    },
    {
      "cell_type": "code",
      "execution_count": 37,
      "metadata": {
        "colab": {
          "base_uri": "https://localhost:8080/"
        },
        "id": "OGFkJswMHZqm",
        "outputId": "e2d54ee1-e769-4246-de6e-873c2ff84392"
      },
      "outputs": [
        {
          "output_type": "execute_result",
          "data": {
            "text/plain": [
              "tensor([2, 3, 4, 5, 6])"
            ]
          },
          "metadata": {},
          "execution_count": 37
        }
      ],
      "source": [
        "z = z.get()\n",
        "z"
      ]
    },
    {
      "cell_type": "code",
      "execution_count": 38,
      "metadata": {
        "id": "-uf4tsTKHZqn"
      },
      "outputs": [],
      "source": [
        "x = th.tensor([1.,2,3,4,5], requires_grad=True).send(bob)\n",
        "y = th.tensor([1.,1,1,1,1], requires_grad=True).send(bob)"
      ]
    },
    {
      "cell_type": "code",
      "execution_count": 39,
      "metadata": {
        "id": "h3m6VqeoHZqn"
      },
      "outputs": [],
      "source": [
        "z = (x + y).sum()"
      ]
    },
    {
      "cell_type": "code",
      "execution_count": 40,
      "metadata": {
        "colab": {
          "base_uri": "https://localhost:8080/"
        },
        "id": "PuZjImkeHZqn",
        "outputId": "3edd57d3-fb39-4c4d-a8f0-8641fef4de73"
      },
      "outputs": [
        {
          "output_type": "execute_result",
          "data": {
            "text/plain": [
              "(Wrapper)>[PointerTensor | me:60705106184 -> bob:74522244695]"
            ]
          },
          "metadata": {},
          "execution_count": 40
        }
      ],
      "source": [
        "z.backward()"
      ]
    },
    {
      "cell_type": "code",
      "execution_count": 41,
      "metadata": {
        "id": "mfS3r6EiHZqn"
      },
      "outputs": [],
      "source": [
        "x = x.get()"
      ]
    },
    {
      "cell_type": "code",
      "execution_count": 42,
      "metadata": {
        "colab": {
          "base_uri": "https://localhost:8080/"
        },
        "id": "5qndo0pgHZqn",
        "outputId": "811f860a-6a69-403b-f624-ee90f48151ce"
      },
      "outputs": [
        {
          "output_type": "execute_result",
          "data": {
            "text/plain": [
              "tensor([1., 2., 3., 4., 5.], requires_grad=True)"
            ]
          },
          "metadata": {},
          "execution_count": 42
        }
      ],
      "source": [
        "x"
      ]
    },
    {
      "cell_type": "code",
      "execution_count": 43,
      "metadata": {
        "colab": {
          "base_uri": "https://localhost:8080/"
        },
        "id": "REK4NdaBHZqn",
        "outputId": "194ac71f-3d8d-47a3-b9c9-38f368c8528e"
      },
      "outputs": [
        {
          "output_type": "execute_result",
          "data": {
            "text/plain": [
              "tensor([1., 1., 1., 1., 1.])"
            ]
          },
          "metadata": {},
          "execution_count": 43
        }
      ],
      "source": [
        "x.grad"
      ]
    },
    {
      "cell_type": "markdown",
      "source": [
        "## Exercises: do an arithmetic operation on worker `alice` with a tensor of size 5 or above (with `requires_grad = True`). call `backward()` and print gradient afterwards."
      ],
      "metadata": {
        "id": "LMb4SBrfz1Sd"
      }
    },
    {
      "cell_type": "markdown",
      "metadata": {
        "id": "ohLsVyQlHZqn"
      },
      "source": [
        "# Project: Learn a Simple Linear Model\n",
        "\n",
        "In this project, I'd like for you to create a simple linear model which will solve for the following dataset below. You should use only Variables and .backward() to do so (no optimizers or nn.Modules). Furthermore, you must do so with both the data and the model being located on Bob's machine."
      ]
    },
    {
      "cell_type": "code",
      "execution_count": 44,
      "metadata": {
        "id": "laGC1_dgHZqn"
      },
      "outputs": [],
      "source": [
        "sample_input = th.tensor([[1.,1],[0,1,],[1,0],[0,0]], requires_grad=True).send(bob)\n",
        "target = th.tensor([[1.],[1],[0],[0]], requires_grad=True).send(bob)"
      ]
    },
    {
      "cell_type": "code",
      "execution_count": 45,
      "metadata": {
        "id": "Vw7lD_BTHZqo"
      },
      "outputs": [],
      "source": [
        "weights = th.tensor([[0.],[0.]], requires_grad=True).send(bob)"
      ]
    },
    {
      "cell_type": "code",
      "source": [
        "sample_input.shape, target.shape, weights.shape"
      ],
      "metadata": {
        "colab": {
          "base_uri": "https://localhost:8080/"
        },
        "id": "RD9Tinkr9xMO",
        "outputId": "c82a102e-1fb4-4bf2-bff3-566d4810062b"
      },
      "execution_count": 46,
      "outputs": [
        {
          "output_type": "execute_result",
          "data": {
            "text/plain": [
              "(torch.Size([4, 2]), torch.Size([4, 1]), torch.Size([2, 1]))"
            ]
          },
          "metadata": {},
          "execution_count": 46
        }
      ]
    },
    {
      "cell_type": "code",
      "execution_count": 47,
      "metadata": {
        "colab": {
          "base_uri": "https://localhost:8080/"
        },
        "id": "NBxL_nMPHZqo",
        "outputId": "2fac1ab8-d53d-4c66-962e-0730008afffa"
      },
      "outputs": [
        {
          "output_type": "stream",
          "name": "stdout",
          "text": [
            "tensor(2.)\n",
            "tensor(0.5600)\n",
            "tensor(0.2432)\n",
            "tensor(0.1372)\n",
            "tensor(0.0849)\n",
            "tensor(0.0538)\n",
            "tensor(0.0344)\n",
            "tensor(0.0220)\n",
            "tensor(0.0141)\n",
            "tensor(0.0090)\n"
          ]
        }
      ],
      "source": [
        "for i in range(10):\n",
        "\n",
        "    pred = sample_input.mm(weights)\n",
        "\n",
        "    loss = ((pred - target)**2).sum()\n",
        "\n",
        "    loss.backward() #backpropagate \n",
        "\n",
        "    weights.data.sub_(weights.grad * 0.1) #update weights in-place\n",
        "    weights.grad *= 0\n",
        "\n",
        "    print(loss.get().data)"
      ]
    },
    {
      "cell_type": "code",
      "source": [
        "target.get()"
      ],
      "metadata": {
        "colab": {
          "base_uri": "https://localhost:8080/"
        },
        "id": "KI3BmEq5NMHm",
        "outputId": "8fb7d54a-d2ca-4f95-b5cd-113211d40fa8"
      },
      "execution_count": 48,
      "outputs": [
        {
          "output_type": "execute_result",
          "data": {
            "text/plain": [
              "tensor([[1.],\n",
              "        [1.],\n",
              "        [0.],\n",
              "        [0.]], requires_grad=True)"
            ]
          },
          "metadata": {},
          "execution_count": 48
        }
      ]
    },
    {
      "cell_type": "code",
      "source": [
        "bob._objects"
      ],
      "metadata": {
        "colab": {
          "base_uri": "https://localhost:8080/"
        },
        "id": "-7AfNPJ0Nc7N",
        "outputId": "26fd5b3e-25fa-4012-87a3-584db9b3c205"
      },
      "execution_count": 49,
      "outputs": [
        {
          "output_type": "execute_result",
          "data": {
            "text/plain": [
              "{11480036556: tensor(20., grad_fn=<SumBackward0>),\n",
              " 15878985318: tensor([[0.9997],\n",
              "         [0.9328],\n",
              "         [0.0670],\n",
              "         [0.0000]], grad_fn=<MmBackward>),\n",
              " 23279225954: tensor([1., 1., 1., 1., 1.], requires_grad=True),\n",
              " 31803735444: tensor([[0.0536],\n",
              "         [0.9463]], requires_grad=True),\n",
              " 56038679586: tensor([[1., 1.],\n",
              "         [0., 1.],\n",
              "         [1., 0.],\n",
              "         [0., 0.]], requires_grad=True),\n",
              " 65699905206: tensor([1, 1, 1, 1, 1]),\n",
              " 90972589524: tensor([1, 2, 3, 4, 5])}"
            ]
          },
          "metadata": {},
          "execution_count": 49
        }
      ]
    },
    {
      "cell_type": "markdown",
      "metadata": {
        "id": "1ipn-7MXHZqo"
      },
      "source": [
        "# Lesson: Garbage Collection and Common Errors\n"
      ]
    },
    {
      "cell_type": "code",
      "execution_count": 50,
      "metadata": {
        "id": "4xSc077yHZqo"
      },
      "outputs": [],
      "source": [
        "bob = bob.clear_objects()"
      ]
    },
    {
      "cell_type": "code",
      "execution_count": 51,
      "metadata": {
        "colab": {
          "base_uri": "https://localhost:8080/"
        },
        "id": "cgg82Ye6HZqo",
        "outputId": "98fd5b16-7770-4028-ad93-ed17af86b5ba"
      },
      "outputs": [
        {
          "output_type": "execute_result",
          "data": {
            "text/plain": [
              "{}"
            ]
          },
          "metadata": {},
          "execution_count": 51
        }
      ],
      "source": [
        "bob._objects"
      ]
    },
    {
      "cell_type": "code",
      "execution_count": 52,
      "metadata": {
        "id": "kT8CvPyvHZqo"
      },
      "outputs": [],
      "source": [
        "x = th.tensor([1,2,3,4,5]).send(bob)"
      ]
    },
    {
      "cell_type": "code",
      "execution_count": 53,
      "metadata": {
        "id": "si6xcnbZHZqo",
        "outputId": "128c3f97-6a73-4425-8818-23f085014de3",
        "colab": {
          "base_uri": "https://localhost:8080/"
        }
      },
      "outputs": [
        {
          "output_type": "execute_result",
          "data": {
            "text/plain": [
              "{40001865101: tensor([1, 2, 3, 4, 5])}"
            ]
          },
          "metadata": {},
          "execution_count": 53
        }
      ],
      "source": [
        "bob._objects"
      ]
    },
    {
      "cell_type": "code",
      "execution_count": 54,
      "metadata": {
        "id": "nsRjovSqHZqp"
      },
      "outputs": [],
      "source": [
        "del x"
      ]
    },
    {
      "cell_type": "code",
      "execution_count": 55,
      "metadata": {
        "id": "bJKsyXeyHZqp",
        "outputId": "f63a6bec-d71d-4ded-bd20-7c725a44d0fd",
        "colab": {
          "base_uri": "https://localhost:8080/"
        }
      },
      "outputs": [
        {
          "output_type": "execute_result",
          "data": {
            "text/plain": [
              "{}"
            ]
          },
          "metadata": {},
          "execution_count": 55
        }
      ],
      "source": [
        "bob._objects"
      ]
    },
    {
      "cell_type": "code",
      "execution_count": 56,
      "metadata": {
        "id": "38Xp68oPHZqp",
        "colab": {
          "base_uri": "https://localhost:8080/"
        },
        "outputId": "7928da60-54f4-49e2-8806-e955d924f3f6"
      },
      "outputs": [
        {
          "output_type": "execute_result",
          "data": {
            "text/plain": [
              "(Wrapper)>[PointerTensor | me:14111254003 -> bob:42574423620]"
            ]
          },
          "metadata": {},
          "execution_count": 56
        }
      ],
      "source": [
        "x = th.tensor([1,2,3,4,5]).send(bob)\n",
        "x"
      ]
    },
    {
      "cell_type": "code",
      "execution_count": 57,
      "metadata": {
        "id": "MgXsTOFSHZqp",
        "outputId": "fe08d3b0-c676-41d0-ec29-d0fe169bdcd8",
        "colab": {
          "base_uri": "https://localhost:8080/"
        }
      },
      "outputs": [
        {
          "output_type": "execute_result",
          "data": {
            "text/plain": [
              "{42574423620: tensor([1, 2, 3, 4, 5])}"
            ]
          },
          "metadata": {},
          "execution_count": 57
        }
      ],
      "source": [
        "bob._objects"
      ]
    },
    {
      "cell_type": "code",
      "execution_count": 58,
      "metadata": {
        "id": "5nBScOW3HZqp"
      },
      "outputs": [],
      "source": [
        "x = \"asdf\""
      ]
    },
    {
      "cell_type": "code",
      "execution_count": 59,
      "metadata": {
        "id": "jx7_w1wdHZqp",
        "outputId": "51d42b2a-5028-48b4-e567-d8c60c99d361",
        "colab": {
          "base_uri": "https://localhost:8080/"
        }
      },
      "outputs": [
        {
          "output_type": "execute_result",
          "data": {
            "text/plain": [
              "{42574423620: tensor([1, 2, 3, 4, 5])}"
            ]
          },
          "metadata": {},
          "execution_count": 59
        }
      ],
      "source": [
        "bob._objects"
      ]
    },
    {
      "cell_type": "code",
      "execution_count": 60,
      "metadata": {
        "id": "9lkVTTZzHZqp",
        "colab": {
          "base_uri": "https://localhost:8080/"
        },
        "outputId": "7e15b111-426a-4235-b62c-6b1f13b8cb4b"
      },
      "outputs": [
        {
          "output_type": "execute_result",
          "data": {
            "text/plain": [
              "(Wrapper)>[PointerTensor | me:84989386114 -> bob:23623042215]"
            ]
          },
          "metadata": {},
          "execution_count": 60
        }
      ],
      "source": [
        "x = th.tensor([1,2,3,4,5]).send(bob)\n",
        "x"
      ]
    },
    {
      "cell_type": "code",
      "execution_count": 61,
      "metadata": {
        "id": "dMHxwCS2HZqq",
        "outputId": "12c4a99c-d624-49c5-f706-b76989e68a5c",
        "colab": {
          "base_uri": "https://localhost:8080/"
        }
      },
      "outputs": [
        {
          "output_type": "execute_result",
          "data": {
            "text/plain": [
              "{23623042215: tensor([1, 2, 3, 4, 5]), 42574423620: tensor([1, 2, 3, 4, 5])}"
            ]
          },
          "metadata": {},
          "execution_count": 61
        }
      ],
      "source": [
        "bob._objects"
      ]
    },
    {
      "cell_type": "code",
      "execution_count": 62,
      "metadata": {
        "id": "yI2RSOv2HZqq"
      },
      "outputs": [],
      "source": [
        "x = \"asdf\""
      ]
    },
    {
      "cell_type": "code",
      "execution_count": 63,
      "metadata": {
        "id": "LHhrXj6hHZqq",
        "outputId": "95e3a695-7bd8-46aa-f9e0-db5480da8f73",
        "colab": {
          "base_uri": "https://localhost:8080/"
        }
      },
      "outputs": [
        {
          "output_type": "execute_result",
          "data": {
            "text/plain": [
              "{23623042215: tensor([1, 2, 3, 4, 5]), 42574423620: tensor([1, 2, 3, 4, 5])}"
            ]
          },
          "metadata": {},
          "execution_count": 63
        }
      ],
      "source": [
        "bob._objects"
      ]
    },
    {
      "cell_type": "code",
      "execution_count": 64,
      "metadata": {
        "id": "x2RdGrAqHZqq"
      },
      "outputs": [],
      "source": [
        "del x"
      ]
    },
    {
      "cell_type": "code",
      "execution_count": 65,
      "metadata": {
        "id": "hDO0TdrTHZqq",
        "outputId": "a20082af-190f-49b0-d84e-e72136b7e1c7",
        "colab": {
          "base_uri": "https://localhost:8080/"
        }
      },
      "outputs": [
        {
          "output_type": "execute_result",
          "data": {
            "text/plain": [
              "{23623042215: tensor([1, 2, 3, 4, 5]), 42574423620: tensor([1, 2, 3, 4, 5])}"
            ]
          },
          "metadata": {},
          "execution_count": 65
        }
      ],
      "source": [
        "bob._objects"
      ]
    },
    {
      "cell_type": "code",
      "execution_count": 66,
      "metadata": {
        "id": "5Uh8D6nbHZqq",
        "outputId": "f6bacd6a-c226-4e27-b2d0-119fa86a911c",
        "colab": {
          "base_uri": "https://localhost:8080/"
        }
      },
      "outputs": [
        {
          "output_type": "execute_result",
          "data": {
            "text/plain": [
              "{}"
            ]
          },
          "metadata": {},
          "execution_count": 66
        }
      ],
      "source": [
        "bob = bob.clear_objects()\n",
        "bob._objects"
      ]
    },
    {
      "cell_type": "code",
      "execution_count": 67,
      "metadata": {
        "id": "-6jdh5zBHZqq"
      },
      "outputs": [],
      "source": [
        "for i in range(1000):\n",
        "    x = th.tensor([1,2,3,4,5]).send(bob)"
      ]
    },
    {
      "cell_type": "code",
      "execution_count": 68,
      "metadata": {
        "id": "i5u7rKq3HZqr",
        "outputId": "2bf0e9c2-2eb0-4c7c-fa51-d81ae0fd97ec",
        "colab": {
          "base_uri": "https://localhost:8080/"
        }
      },
      "outputs": [
        {
          "output_type": "execute_result",
          "data": {
            "text/plain": [
              "{30244796699: tensor([1, 2, 3, 4, 5])}"
            ]
          },
          "metadata": {},
          "execution_count": 68
        }
      ],
      "source": [
        "bob._objects"
      ]
    },
    {
      "cell_type": "code",
      "execution_count": 78,
      "metadata": {
        "id": "0u8ECc5JHZqr"
      },
      "outputs": [],
      "source": [
        "x = th.tensor([1,2,3,4,5]).send(bob)\n",
        "y = th.tensor([1,1,1,1,1])"
      ]
    },
    {
      "cell_type": "code",
      "source": [
        "x = x.get()"
      ],
      "metadata": {
        "id": "D1SEM3JzE2xW"
      },
      "execution_count": 79,
      "outputs": []
    },
    {
      "cell_type": "code",
      "source": [
        ""
      ],
      "metadata": {
        "id": "8_uJbjiLFB0m"
      },
      "execution_count": null,
      "outputs": []
    },
    {
      "cell_type": "code",
      "source": [
        "y"
      ],
      "metadata": {
        "colab": {
          "base_uri": "https://localhost:8080/"
        },
        "id": "Y6d87KyIE42G",
        "outputId": "1c5c32f9-b398-4b12-a76b-32e435a5a214"
      },
      "execution_count": 80,
      "outputs": [
        {
          "output_type": "execute_result",
          "data": {
            "text/plain": [
              "tensor([1, 1, 1, 1, 1])"
            ]
          },
          "metadata": {},
          "execution_count": 80
        }
      ]
    },
    {
      "cell_type": "code",
      "execution_count": 81,
      "metadata": {
        "id": "cN2HxXNJHZqr"
      },
      "outputs": [],
      "source": [
        "z = x + y"
      ]
    },
    {
      "cell_type": "code",
      "source": [
        "z"
      ],
      "metadata": {
        "colab": {
          "base_uri": "https://localhost:8080/"
        },
        "id": "bnTC_Fx4FZ8d",
        "outputId": "8246374d-9c25-4710-9c2c-2af4f62f6aca"
      },
      "execution_count": 82,
      "outputs": [
        {
          "output_type": "execute_result",
          "data": {
            "text/plain": [
              "tensor([2, 3, 4, 5, 6])"
            ]
          },
          "metadata": {},
          "execution_count": 82
        }
      ]
    },
    {
      "cell_type": "markdown",
      "source": [
        "Make sure you compute the tensors of the same kind, not mix-n-match!\n",
        "![image.png](data:image/png;base64,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)"
      ],
      "metadata": {
        "id": "s0Wx_2V9POv2"
      }
    },
    {
      "cell_type": "code",
      "execution_count": 83,
      "metadata": {
        "id": "F_9qNLXOHZqr"
      },
      "outputs": [],
      "source": [
        "x = th.tensor([1,2,3,4,5]).send(bob)\n",
        "y = th.tensor([1,1,1,1,1]).send(alice)"
      ]
    },
    {
      "cell_type": "code",
      "execution_count": 84,
      "metadata": {
        "id": "3EU5iYcuHZqr",
        "outputId": "7c2a4508-14bf-4189-de6a-56d3734fa4f0",
        "colab": {
          "base_uri": "https://localhost:8080/",
          "height": 362
        }
      },
      "outputs": [
        {
          "output_type": "error",
          "ename": "TensorsNotCollocatedException",
          "evalue": "ignored",
          "traceback": [
            "\u001b[0;31m---------------------------------------------------------------------------\u001b[0m",
            "\u001b[0;31mTensorsNotCollocatedException\u001b[0m             Traceback (most recent call last)",
            "\u001b[0;32m<ipython-input-84-8c8f78e0676d>\u001b[0m in \u001b[0;36m<module>\u001b[0;34m()\u001b[0m\n\u001b[0;32m----> 1\u001b[0;31m \u001b[0mz\u001b[0m \u001b[0;34m=\u001b[0m \u001b[0mx\u001b[0m \u001b[0;34m+\u001b[0m \u001b[0my\u001b[0m\u001b[0;34m\u001b[0m\u001b[0;34m\u001b[0m\u001b[0m\n\u001b[0m",
            "\u001b[0;32m/usr/local/lib/python3.7/dist-packages/syft/generic/frameworks/hook/hook.py\u001b[0m in \u001b[0;36moverloaded_native_method\u001b[0;34m(self, *args, **kwargs)\u001b[0m\n\u001b[1;32m    207\u001b[0m                 \u001b[0;31m# Send the new command to the appropriate class and get the response\u001b[0m\u001b[0;34m\u001b[0m\u001b[0;34m\u001b[0m\u001b[0;34m\u001b[0m\u001b[0m\n\u001b[1;32m    208\u001b[0m                 \u001b[0mmethod\u001b[0m \u001b[0;34m=\u001b[0m \u001b[0mgetattr\u001b[0m\u001b[0;34m(\u001b[0m\u001b[0mnew_self\u001b[0m\u001b[0;34m,\u001b[0m \u001b[0mmethod_name\u001b[0m\u001b[0;34m)\u001b[0m\u001b[0;34m\u001b[0m\u001b[0;34m\u001b[0m\u001b[0m\n\u001b[0;32m--> 209\u001b[0;31m                 \u001b[0mresponse\u001b[0m \u001b[0;34m=\u001b[0m \u001b[0mmethod\u001b[0m\u001b[0;34m(\u001b[0m\u001b[0;34m*\u001b[0m\u001b[0mnew_args\u001b[0m\u001b[0;34m,\u001b[0m \u001b[0;34m**\u001b[0m\u001b[0mnew_kwargs\u001b[0m\u001b[0;34m)\u001b[0m\u001b[0;34m\u001b[0m\u001b[0;34m\u001b[0m\u001b[0m\n\u001b[0m\u001b[1;32m    210\u001b[0m \u001b[0;34m\u001b[0m\u001b[0m\n\u001b[1;32m    211\u001b[0m                 \u001b[0;31m# For inplace methods, just directly return self\u001b[0m\u001b[0;34m\u001b[0m\u001b[0;34m\u001b[0m\u001b[0;34m\u001b[0m\u001b[0m\n",
            "\u001b[0;32m/usr/local/lib/python3.7/dist-packages/syft/generic/frameworks/hook/pointers.py\u001b[0m in \u001b[0;36moverloaded_pointer_method\u001b[0;34m(self, *args, **kwargs)\u001b[0m\n\u001b[1;32m     79\u001b[0m                 \u001b[0;32mif\u001b[0m \u001b[0misinstance\u001b[0m\u001b[0;34m(\u001b[0m\u001b[0margs\u001b[0m\u001b[0;34m[\u001b[0m\u001b[0;36m0\u001b[0m\u001b[0;34m]\u001b[0m\u001b[0;34m,\u001b[0m \u001b[0mObjectPointer\u001b[0m\u001b[0;34m)\u001b[0m\u001b[0;34m:\u001b[0m\u001b[0;34m\u001b[0m\u001b[0;34m\u001b[0m\u001b[0m\n\u001b[1;32m     80\u001b[0m                     \u001b[0;32mif\u001b[0m \u001b[0margs\u001b[0m\u001b[0;34m[\u001b[0m\u001b[0;36m0\u001b[0m\u001b[0;34m]\u001b[0m\u001b[0;34m.\u001b[0m\u001b[0mlocation\u001b[0m\u001b[0;34m.\u001b[0m\u001b[0mid\u001b[0m \u001b[0;34m!=\u001b[0m \u001b[0mlocation\u001b[0m\u001b[0;34m.\u001b[0m\u001b[0mid\u001b[0m\u001b[0;34m:\u001b[0m\u001b[0;34m\u001b[0m\u001b[0;34m\u001b[0m\u001b[0m\n\u001b[0;32m---> 81\u001b[0;31m                         \u001b[0;32mraise\u001b[0m \u001b[0mTensorsNotCollocatedException\u001b[0m\u001b[0;34m(\u001b[0m\u001b[0mpointer\u001b[0m\u001b[0;34m,\u001b[0m \u001b[0margs\u001b[0m\u001b[0;34m[\u001b[0m\u001b[0;36m0\u001b[0m\u001b[0;34m]\u001b[0m\u001b[0;34m,\u001b[0m \u001b[0mattr\u001b[0m\u001b[0;34m)\u001b[0m\u001b[0;34m\u001b[0m\u001b[0;34m\u001b[0m\u001b[0m\n\u001b[0m\u001b[1;32m     82\u001b[0m \u001b[0;34m\u001b[0m\u001b[0m\n\u001b[1;32m     83\u001b[0m             \u001b[0;31m# Send the command\u001b[0m\u001b[0;34m\u001b[0m\u001b[0;34m\u001b[0m\u001b[0;34m\u001b[0m\u001b[0m\n",
            "\u001b[0;31mTensorsNotCollocatedException\u001b[0m: You tried to call __add__ involving two tensors which are not on the same machine! One tensor is on {tensor_a.location} while the other is on {tensor_b.location}. Use a combination of .move(), .get(), and/or .send() to co-locate them to the same machine."
          ]
        }
      ],
      "source": [
        "z = x + y"
      ]
    },
    {
      "cell_type": "code",
      "source": [
        ""
      ],
      "metadata": {
        "id": "YODd51brO8PK"
      },
      "execution_count": null,
      "outputs": []
    },
    {
      "cell_type": "markdown",
      "source": [
        "<h2> You cannot compute 2 tensors from 2 different machines!\n",
        "\n",
        "![image.png](data:image/png;base64,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)"
      ],
      "metadata": {
        "id": "F2vMaaadO9EV"
      }
    },
    {
      "cell_type": "code",
      "execution_count": null,
      "metadata": {
        "id": "EUvHY3bgHZqr"
      },
      "outputs": [],
      "source": [
        ""
      ]
    },
    {
      "cell_type": "markdown",
      "metadata": {
        "id": "hQ9AVqDsHZqr"
      },
      "source": [
        "# Lesson: Toy Federated Learning\n",
        "\n",
        "Let's start by training a toy model the centralized way. This is about a simple as models get. We first need:\n",
        "\n",
        "- a toy dataset\n",
        "- a model\n",
        "- some basic training logic for training a model to fit the data."
      ]
    },
    {
      "cell_type": "code",
      "execution_count": 85,
      "metadata": {
        "id": "0E155ARFHZqr"
      },
      "outputs": [],
      "source": [
        "from torch import nn, optim"
      ]
    },
    {
      "cell_type": "code",
      "source": [
        "alice.clear_objects()\n",
        "bob.clear_objects()"
      ],
      "metadata": {
        "colab": {
          "base_uri": "https://localhost:8080/"
        },
        "id": "uMcdHo3KA_cB",
        "outputId": "5ff871a8-db6f-45d8-eda8-5d9a8fb3e163"
      },
      "execution_count": 86,
      "outputs": [
        {
          "output_type": "execute_result",
          "data": {
            "text/plain": [
              "<VirtualWorker id:bob #objects:0>"
            ]
          },
          "metadata": {},
          "execution_count": 86
        }
      ]
    },
    {
      "cell_type": "code",
      "execution_count": 87,
      "metadata": {
        "id": "le_FUoRfHZqr"
      },
      "outputs": [],
      "source": [
        "# A Toy Dataset\n",
        "data = th.tensor([[1.,1],[0,1],[1,0],[0,0]], requires_grad=True)\n",
        "target = th.tensor([[1.],[1], [0], [0]], requires_grad=True)"
      ]
    },
    {
      "cell_type": "code",
      "execution_count": 88,
      "metadata": {
        "id": "0Dpj8oq8HZqs"
      },
      "outputs": [],
      "source": [
        "# A Toy Model\n",
        "model = nn.Linear(2,1)"
      ]
    },
    {
      "cell_type": "code",
      "execution_count": 89,
      "metadata": {
        "id": "7kVVKugnHZqs"
      },
      "outputs": [],
      "source": [
        "opt = optim.SGD(params=model.parameters(), lr=0.1)"
      ]
    },
    {
      "cell_type": "code",
      "execution_count": 90,
      "metadata": {
        "colab": {
          "base_uri": "https://localhost:8080/"
        },
        "id": "9L0OZwRBHZqs",
        "outputId": "3243f078-3df9-4019-90f6-9f19b9e22687"
      },
      "outputs": [
        {
          "output_type": "stream",
          "name": "stdout",
          "text": [
            "tensor(4.8935)\n",
            "tensor(1.1825)\n",
            "tensor(0.6100)\n",
            "tensor(0.3794)\n",
            "tensor(0.2420)\n",
            "tensor(0.1548)\n",
            "tensor(0.0991)\n",
            "tensor(0.0634)\n",
            "tensor(0.0406)\n",
            "tensor(0.0260)\n",
            "tensor(0.0166)\n",
            "tensor(0.0107)\n",
            "tensor(0.0068)\n",
            "tensor(0.0044)\n",
            "tensor(0.0028)\n",
            "tensor(0.0018)\n",
            "tensor(0.0011)\n",
            "tensor(0.0007)\n",
            "tensor(0.0005)\n",
            "tensor(0.0003)\n"
          ]
        }
      ],
      "source": [
        "def train(iterations=20):\n",
        "    for iter in range(iterations):\n",
        "        opt.zero_grad()\n",
        "\n",
        "        pred = model(data)\n",
        "\n",
        "        loss = ((pred - target)**2).sum()\n",
        "\n",
        "        loss.backward()\n",
        "\n",
        "        opt.step()\n",
        "\n",
        "        print(loss.data)\n",
        "        \n",
        "train()"
      ]
    },
    {
      "cell_type": "code",
      "execution_count": 91,
      "metadata": {
        "id": "6L6X7pjWHZqs"
      },
      "outputs": [],
      "source": [
        "data_bob = data[0:2].send(bob)\n",
        "target_bob = target[0:2].send(bob)"
      ]
    },
    {
      "cell_type": "code",
      "execution_count": 92,
      "metadata": {
        "id": "lFqrqMBsHZqs"
      },
      "outputs": [],
      "source": [
        "data_alice = data[2:4].send(alice)\n",
        "target_alice = target[2:4].send(alice)"
      ]
    },
    {
      "cell_type": "code",
      "execution_count": 93,
      "metadata": {
        "id": "6HxfmVwCHZqs"
      },
      "outputs": [],
      "source": [
        "datasets = [(data_bob, target_bob), (data_alice, target_alice)]"
      ]
    },
    {
      "cell_type": "code",
      "execution_count": 94,
      "metadata": {
        "id": "SIupBtTBHZqs"
      },
      "outputs": [],
      "source": [
        "def train(iterations=20):\n",
        "\n",
        "    model = nn.Linear(2,1)\n",
        "    opt = optim.SGD(params=model.parameters(), lr=0.1)\n",
        "    \n",
        "    for iter in range(iterations):\n",
        "\n",
        "        for _data, _target in datasets:\n",
        "\n",
        "            # send model to the data\n",
        "            model = model.send(_data.location) #send the model to the location of the data (machine that owns it)\n",
        "\n",
        "            # do normal training as in regular PyTorch code\n",
        "            opt.zero_grad()\n",
        "            pred = model(_data)\n",
        "            loss = ((pred - _target)**2).sum()\n",
        "            loss.backward()\n",
        "            opt.step()\n",
        "\n",
        "            # get smarter model back\n",
        "            model = model.get()\n",
        "\n",
        "            print(loss.get())"
      ]
    },
    {
      "cell_type": "code",
      "execution_count": 95,
      "metadata": {
        "colab": {
          "base_uri": "https://localhost:8080/"
        },
        "id": "QnKz3BJvHZqs",
        "outputId": "a2e59227-2fb7-48e7-c626-c6e7d27cdef1"
      },
      "outputs": [
        {
          "output_type": "stream",
          "name": "stdout",
          "text": [
            "tensor(0.0062, requires_grad=True)\n",
            "tensor(0.1859, requires_grad=True)\n",
            "tensor(0.0507, requires_grad=True)\n",
            "tensor(0.1142, requires_grad=True)\n",
            "tensor(0.0378, requires_grad=True)\n",
            "tensor(0.0759, requires_grad=True)\n",
            "tensor(0.0260, requires_grad=True)\n",
            "tensor(0.0513, requires_grad=True)\n",
            "tensor(0.0181, requires_grad=True)\n",
            "tensor(0.0351, requires_grad=True)\n",
            "tensor(0.0128, requires_grad=True)\n",
            "tensor(0.0243, requires_grad=True)\n",
            "tensor(0.0091, requires_grad=True)\n",
            "tensor(0.0170, requires_grad=True)\n",
            "tensor(0.0066, requires_grad=True)\n",
            "tensor(0.0120, requires_grad=True)\n",
            "tensor(0.0048, requires_grad=True)\n",
            "tensor(0.0085, requires_grad=True)\n",
            "tensor(0.0036, requires_grad=True)\n",
            "tensor(0.0061, requires_grad=True)\n",
            "tensor(0.0026, requires_grad=True)\n",
            "tensor(0.0044, requires_grad=True)\n",
            "tensor(0.0020, requires_grad=True)\n",
            "tensor(0.0032, requires_grad=True)\n",
            "tensor(0.0015, requires_grad=True)\n",
            "tensor(0.0023, requires_grad=True)\n",
            "tensor(0.0011, requires_grad=True)\n",
            "tensor(0.0017, requires_grad=True)\n",
            "tensor(0.0008, requires_grad=True)\n",
            "tensor(0.0012, requires_grad=True)\n",
            "tensor(0.0006, requires_grad=True)\n",
            "tensor(0.0009, requires_grad=True)\n",
            "tensor(0.0005, requires_grad=True)\n",
            "tensor(0.0007, requires_grad=True)\n",
            "tensor(0.0003, requires_grad=True)\n",
            "tensor(0.0005, requires_grad=True)\n",
            "tensor(0.0003, requires_grad=True)\n",
            "tensor(0.0004, requires_grad=True)\n",
            "tensor(0.0002, requires_grad=True)\n",
            "tensor(0.0003, requires_grad=True)\n"
          ]
        }
      ],
      "source": [
        "train()"
      ]
    },
    {
      "cell_type": "code",
      "execution_count": null,
      "metadata": {
        "id": "iJVTzfTUHZqs"
      },
      "outputs": [],
      "source": [
        "'''\n",
        "This is incomplete Federated Learning example because we send a model to multiple clients, \n",
        "Solution: Keep their own model and Average them later. \n",
        ">>> Allows Plausible Deniability, we don't know who did what and what exactly that they modified.\n",
        "'''"
      ]
    },
    {
      "cell_type": "markdown",
      "metadata": {
        "id": "FRGi4ddcHZqt"
      },
      "source": [
        "# Lesson: Advanced Remote Execution Tools\n",
        "\n",
        "In the last section we trained a toy model using Federated Learning. We did this by calling .send() and .get() on our model, sending it to the location of training data, updating it, and then bringing it back. However, at the end of the example we realized that we needed to go a bit further to protect people privacy. Namely, we want to average the gradients BEFORE calling .get(). That way, we won't ever see anyone's exact gradient (thus better protecting their privacy!!!)\n",
        "\n",
        "But, in order to do this, we need a few more pieces:\n",
        "\n",
        "- use a pointer to send a Tensor directly to another worker\n",
        "\n",
        "And in addition, while we're here, we're going to learn about a few more advanced tensor operations as well which will help us both with this example and a few in the future!"
      ]
    },
    {
      "cell_type": "code",
      "execution_count": 96,
      "metadata": {
        "colab": {
          "base_uri": "https://localhost:8080/"
        },
        "id": "Y6nKLwCvHZqt",
        "outputId": "084a7204-c6c2-4cfc-a7be-55f61383677b"
      },
      "outputs": [
        {
          "output_type": "execute_result",
          "data": {
            "text/plain": [
              "<VirtualWorker id:alice #objects:0>"
            ]
          },
          "metadata": {},
          "execution_count": 96
        }
      ],
      "source": [
        "bob.clear_objects()\n",
        "alice.clear_objects()"
      ]
    },
    {
      "cell_type": "code",
      "execution_count": 97,
      "metadata": {
        "id": "iqN0SwqgHZqt"
      },
      "outputs": [],
      "source": [
        "x = th.tensor([1,2,3,4,5]).send(bob)"
      ]
    },
    {
      "cell_type": "code",
      "execution_count": 98,
      "metadata": {
        "id": "-v5ey3YTHZqt"
      },
      "outputs": [],
      "source": [
        "x = x.send(alice)"
      ]
    },
    {
      "cell_type": "code",
      "execution_count": 99,
      "metadata": {
        "colab": {
          "base_uri": "https://localhost:8080/"
        },
        "id": "ErkY76pNHZqt",
        "outputId": "5d865aa4-df2a-421c-8c2a-20eaf4f23832"
      },
      "outputs": [
        {
          "output_type": "execute_result",
          "data": {
            "text/plain": [
              "{95134800721: tensor([1, 2, 3, 4, 5])}"
            ]
          },
          "metadata": {},
          "execution_count": 99
        }
      ],
      "source": [
        "bob._objects"
      ]
    },
    {
      "cell_type": "code",
      "execution_count": 100,
      "metadata": {
        "colab": {
          "base_uri": "https://localhost:8080/"
        },
        "id": "pubgasvtHZqt",
        "outputId": "3f1b24cc-c983-4052-b0c7-a9ae2d205d9d"
      },
      "outputs": [
        {
          "output_type": "execute_result",
          "data": {
            "text/plain": [
              "{90445474378: (Wrapper)>[PointerTensor | alice:90445474378 -> bob:95134800721]}"
            ]
          },
          "metadata": {},
          "execution_count": 100
        }
      ],
      "source": [
        "alice._objects"
      ]
    },
    {
      "cell_type": "code",
      "execution_count": 101,
      "metadata": {
        "id": "cSY7eFeQHZqt"
      },
      "outputs": [],
      "source": [
        "y = x + x"
      ]
    },
    {
      "cell_type": "code",
      "execution_count": 102,
      "metadata": {
        "colab": {
          "base_uri": "https://localhost:8080/"
        },
        "id": "7Bwc7hhNHZqt",
        "outputId": "c268280d-5fe9-40c5-e465-9f0ae1e3cc08"
      },
      "outputs": [
        {
          "output_type": "execute_result",
          "data": {
            "text/plain": [
              "(Wrapper)>[PointerTensor | me:28740939684 -> alice:53485425025]"
            ]
          },
          "metadata": {},
          "execution_count": 102
        }
      ],
      "source": [
        "y"
      ]
    },
    {
      "cell_type": "code",
      "execution_count": 103,
      "metadata": {
        "colab": {
          "base_uri": "https://localhost:8080/"
        },
        "id": "__nwMFHsHZqu",
        "outputId": "b93c1261-9311-48b3-b0d8-91055b06fef2"
      },
      "outputs": [
        {
          "output_type": "execute_result",
          "data": {
            "text/plain": [
              "{52381628436: tensor([ 2,  4,  6,  8, 10]),\n",
              " 95134800721: tensor([1, 2, 3, 4, 5])}"
            ]
          },
          "metadata": {},
          "execution_count": 103
        }
      ],
      "source": [
        "bob._objects"
      ]
    },
    {
      "cell_type": "code",
      "execution_count": 104,
      "metadata": {
        "colab": {
          "base_uri": "https://localhost:8080/"
        },
        "id": "r07UgVbBHZqu",
        "outputId": "a42d7b7d-a782-495d-a67d-13b6f88f8e8c"
      },
      "outputs": [
        {
          "output_type": "execute_result",
          "data": {
            "text/plain": [
              "{53485425025: (Wrapper)>[PointerTensor | alice:53485425025 -> bob:52381628436],\n",
              " 90445474378: (Wrapper)>[PointerTensor | alice:90445474378 -> bob:95134800721]}"
            ]
          },
          "metadata": {},
          "execution_count": 104
        }
      ],
      "source": [
        "alice._objects"
      ]
    },
    {
      "cell_type": "code",
      "execution_count": 105,
      "metadata": {
        "id": "m8V2VQM0HZqu"
      },
      "outputs": [],
      "source": [
        "jon = sy.VirtualWorker(hook, id=\"jon\")"
      ]
    },
    {
      "cell_type": "code",
      "source": [
        "x = th.tensor([1,2,3,4,5]).send(bob).send(alice)\n",
        "y = th.tensor([1,2,3,4,5]).send(bob).send(jon)\n"
      ],
      "metadata": {
        "id": "wRZgckEuS91s"
      },
      "execution_count": 106,
      "outputs": []
    },
    {
      "cell_type": "code",
      "source": [
        "z = x+y"
      ],
      "metadata": {
        "colab": {
          "base_uri": "https://localhost:8080/",
          "height": 362
        },
        "id": "8URi5vcUTDtH",
        "outputId": "46df6e8a-581e-41ef-9750-dcd40642d7dd"
      },
      "execution_count": 107,
      "outputs": [
        {
          "output_type": "error",
          "ename": "TensorsNotCollocatedException",
          "evalue": "ignored",
          "traceback": [
            "\u001b[0;31m---------------------------------------------------------------------------\u001b[0m",
            "\u001b[0;31mTensorsNotCollocatedException\u001b[0m             Traceback (most recent call last)",
            "\u001b[0;32m<ipython-input-107-3d3e56cc2a74>\u001b[0m in \u001b[0;36m<module>\u001b[0;34m()\u001b[0m\n\u001b[0;32m----> 1\u001b[0;31m \u001b[0mz\u001b[0m \u001b[0;34m=\u001b[0m \u001b[0mx\u001b[0m\u001b[0;34m+\u001b[0m\u001b[0my\u001b[0m\u001b[0;34m\u001b[0m\u001b[0;34m\u001b[0m\u001b[0m\n\u001b[0m",
            "\u001b[0;32m/usr/local/lib/python3.7/dist-packages/syft/generic/frameworks/hook/hook.py\u001b[0m in \u001b[0;36moverloaded_native_method\u001b[0;34m(self, *args, **kwargs)\u001b[0m\n\u001b[1;32m    207\u001b[0m                 \u001b[0;31m# Send the new command to the appropriate class and get the response\u001b[0m\u001b[0;34m\u001b[0m\u001b[0;34m\u001b[0m\u001b[0;34m\u001b[0m\u001b[0m\n\u001b[1;32m    208\u001b[0m                 \u001b[0mmethod\u001b[0m \u001b[0;34m=\u001b[0m \u001b[0mgetattr\u001b[0m\u001b[0;34m(\u001b[0m\u001b[0mnew_self\u001b[0m\u001b[0;34m,\u001b[0m \u001b[0mmethod_name\u001b[0m\u001b[0;34m)\u001b[0m\u001b[0;34m\u001b[0m\u001b[0;34m\u001b[0m\u001b[0m\n\u001b[0;32m--> 209\u001b[0;31m                 \u001b[0mresponse\u001b[0m \u001b[0;34m=\u001b[0m \u001b[0mmethod\u001b[0m\u001b[0;34m(\u001b[0m\u001b[0;34m*\u001b[0m\u001b[0mnew_args\u001b[0m\u001b[0;34m,\u001b[0m \u001b[0;34m**\u001b[0m\u001b[0mnew_kwargs\u001b[0m\u001b[0;34m)\u001b[0m\u001b[0;34m\u001b[0m\u001b[0;34m\u001b[0m\u001b[0m\n\u001b[0m\u001b[1;32m    210\u001b[0m \u001b[0;34m\u001b[0m\u001b[0m\n\u001b[1;32m    211\u001b[0m                 \u001b[0;31m# For inplace methods, just directly return self\u001b[0m\u001b[0;34m\u001b[0m\u001b[0;34m\u001b[0m\u001b[0;34m\u001b[0m\u001b[0m\n",
            "\u001b[0;32m/usr/local/lib/python3.7/dist-packages/syft/generic/frameworks/hook/pointers.py\u001b[0m in \u001b[0;36moverloaded_pointer_method\u001b[0;34m(self, *args, **kwargs)\u001b[0m\n\u001b[1;32m     79\u001b[0m                 \u001b[0;32mif\u001b[0m \u001b[0misinstance\u001b[0m\u001b[0;34m(\u001b[0m\u001b[0margs\u001b[0m\u001b[0;34m[\u001b[0m\u001b[0;36m0\u001b[0m\u001b[0;34m]\u001b[0m\u001b[0;34m,\u001b[0m \u001b[0mObjectPointer\u001b[0m\u001b[0;34m)\u001b[0m\u001b[0;34m:\u001b[0m\u001b[0;34m\u001b[0m\u001b[0;34m\u001b[0m\u001b[0m\n\u001b[1;32m     80\u001b[0m                     \u001b[0;32mif\u001b[0m \u001b[0margs\u001b[0m\u001b[0;34m[\u001b[0m\u001b[0;36m0\u001b[0m\u001b[0;34m]\u001b[0m\u001b[0;34m.\u001b[0m\u001b[0mlocation\u001b[0m\u001b[0;34m.\u001b[0m\u001b[0mid\u001b[0m \u001b[0;34m!=\u001b[0m \u001b[0mlocation\u001b[0m\u001b[0;34m.\u001b[0m\u001b[0mid\u001b[0m\u001b[0;34m:\u001b[0m\u001b[0;34m\u001b[0m\u001b[0;34m\u001b[0m\u001b[0m\n\u001b[0;32m---> 81\u001b[0;31m                         \u001b[0;32mraise\u001b[0m \u001b[0mTensorsNotCollocatedException\u001b[0m\u001b[0;34m(\u001b[0m\u001b[0mpointer\u001b[0m\u001b[0;34m,\u001b[0m \u001b[0margs\u001b[0m\u001b[0;34m[\u001b[0m\u001b[0;36m0\u001b[0m\u001b[0;34m]\u001b[0m\u001b[0;34m,\u001b[0m \u001b[0mattr\u001b[0m\u001b[0;34m)\u001b[0m\u001b[0;34m\u001b[0m\u001b[0;34m\u001b[0m\u001b[0m\n\u001b[0m\u001b[1;32m     82\u001b[0m \u001b[0;34m\u001b[0m\u001b[0m\n\u001b[1;32m     83\u001b[0m             \u001b[0;31m# Send the command\u001b[0m\u001b[0;34m\u001b[0m\u001b[0;34m\u001b[0m\u001b[0;34m\u001b[0m\u001b[0m\n",
            "\u001b[0;31mTensorsNotCollocatedException\u001b[0m: You tried to call __add__ involving two tensors which are not on the same machine! One tensor is on {tensor_a.location} while the other is on {tensor_b.location}. Use a combination of .move(), .get(), and/or .send() to co-locate them to the same machine."
          ]
        }
      ]
    },
    {
      "cell_type": "code",
      "execution_count": 108,
      "metadata": {
        "id": "KB5jAzpWHZqu"
      },
      "outputs": [],
      "source": [
        "bob.clear_objects()\n",
        "alice.clear_objects()\n",
        "\n",
        "x = th.tensor([1,2,3,4,5]).send(bob).send(alice)"
      ]
    },
    {
      "cell_type": "code",
      "execution_count": 109,
      "metadata": {
        "colab": {
          "base_uri": "https://localhost:8080/"
        },
        "id": "IlsW-osGHZqu",
        "outputId": "55c1cb97-bb0b-4970-8aae-ebd674300baf"
      },
      "outputs": [
        {
          "output_type": "execute_result",
          "data": {
            "text/plain": [
              "{18233683595: tensor([1, 2, 3, 4, 5])}"
            ]
          },
          "metadata": {},
          "execution_count": 109
        }
      ],
      "source": [
        "bob._objects"
      ]
    },
    {
      "cell_type": "code",
      "execution_count": 110,
      "metadata": {
        "colab": {
          "base_uri": "https://localhost:8080/"
        },
        "id": "_ejrF7oqHZqu",
        "outputId": "27e37c6e-a2b2-4f25-81af-b15e27571cfe"
      },
      "outputs": [
        {
          "output_type": "execute_result",
          "data": {
            "text/plain": [
              "{32731457958: (Wrapper)>[PointerTensor | alice:32731457958 -> bob:18233683595]}"
            ]
          },
          "metadata": {},
          "execution_count": 110
        }
      ],
      "source": [
        "alice._objects"
      ]
    },
    {
      "cell_type": "code",
      "execution_count": 111,
      "metadata": {
        "colab": {
          "base_uri": "https://localhost:8080/"
        },
        "id": "Bx-db6vKHZqu",
        "outputId": "0d52c827-db42-477c-f71d-88c0aac1a54f"
      },
      "outputs": [
        {
          "output_type": "execute_result",
          "data": {
            "text/plain": [
              "(Wrapper)>[PointerTensor | me:32731457958 -> bob:18233683595]"
            ]
          },
          "metadata": {},
          "execution_count": 111
        }
      ],
      "source": [
        "x = x.get()\n",
        "x"
      ]
    },
    {
      "cell_type": "code",
      "execution_count": 112,
      "metadata": {
        "colab": {
          "base_uri": "https://localhost:8080/"
        },
        "id": "LjgnS0GmHZqv",
        "outputId": "2afd43d1-8a5d-4263-c345-ee2d28f9c3a7"
      },
      "outputs": [
        {
          "output_type": "execute_result",
          "data": {
            "text/plain": [
              "{18233683595: tensor([1, 2, 3, 4, 5])}"
            ]
          },
          "metadata": {},
          "execution_count": 112
        }
      ],
      "source": [
        "bob._objects"
      ]
    },
    {
      "cell_type": "code",
      "execution_count": 113,
      "metadata": {
        "colab": {
          "base_uri": "https://localhost:8080/"
        },
        "id": "-TUppcb4HZqv",
        "outputId": "6c046542-416c-42f6-af45-3aa4e7993e17"
      },
      "outputs": [
        {
          "output_type": "execute_result",
          "data": {
            "text/plain": [
              "{}"
            ]
          },
          "metadata": {},
          "execution_count": 113
        }
      ],
      "source": [
        "alice._objects"
      ]
    },
    {
      "cell_type": "code",
      "execution_count": 114,
      "metadata": {
        "id": "4VTRP4zlHZqv",
        "outputId": "c7f3fcfe-0b66-40a1-a159-e6a904090114",
        "colab": {
          "base_uri": "https://localhost:8080/"
        }
      },
      "outputs": [
        {
          "output_type": "execute_result",
          "data": {
            "text/plain": [
              "tensor([1, 2, 3, 4, 5])"
            ]
          },
          "metadata": {},
          "execution_count": 114
        }
      ],
      "source": [
        "x = x.get()\n",
        "x"
      ]
    },
    {
      "cell_type": "code",
      "execution_count": 115,
      "metadata": {
        "id": "tmzwPGKgHZqv",
        "outputId": "bf27d162-e202-410c-f35a-7670f7abd753",
        "colab": {
          "base_uri": "https://localhost:8080/"
        }
      },
      "outputs": [
        {
          "output_type": "execute_result",
          "data": {
            "text/plain": [
              "{}"
            ]
          },
          "metadata": {},
          "execution_count": 115
        }
      ],
      "source": [
        "bob._objects"
      ]
    },
    {
      "cell_type": "code",
      "execution_count": 116,
      "metadata": {
        "id": "lvGi8dXVHZqv"
      },
      "outputs": [],
      "source": [
        "bob.clear_objects()\n",
        "alice.clear_objects()\n",
        "\n",
        "x = th.tensor([1,2,3,4,5]).send(bob).send(alice)"
      ]
    },
    {
      "cell_type": "code",
      "execution_count": 117,
      "metadata": {
        "colab": {
          "base_uri": "https://localhost:8080/"
        },
        "id": "NQyFkKZBHZqv",
        "outputId": "957af876-9550-419c-e8dc-82d6b0db5edc"
      },
      "outputs": [
        {
          "output_type": "execute_result",
          "data": {
            "text/plain": [
              "{79936339370: tensor([1, 2, 3, 4, 5])}"
            ]
          },
          "metadata": {},
          "execution_count": 117
        }
      ],
      "source": [
        "bob._objects"
      ]
    },
    {
      "cell_type": "code",
      "execution_count": 118,
      "metadata": {
        "colab": {
          "base_uri": "https://localhost:8080/"
        },
        "id": "UaBxnkEjHZqv",
        "outputId": "71238c44-1879-4113-da96-f9c10f0951c3"
      },
      "outputs": [
        {
          "output_type": "execute_result",
          "data": {
            "text/plain": [
              "{49967871036: (Wrapper)>[PointerTensor | alice:49967871036 -> bob:79936339370]}"
            ]
          },
          "metadata": {},
          "execution_count": 118
        }
      ],
      "source": [
        "alice._objects"
      ]
    },
    {
      "cell_type": "code",
      "execution_count": 119,
      "metadata": {
        "id": "2tSxWCLpHZqv"
      },
      "outputs": [],
      "source": [
        "del x"
      ]
    },
    {
      "cell_type": "code",
      "execution_count": 120,
      "metadata": {
        "colab": {
          "base_uri": "https://localhost:8080/"
        },
        "id": "6EvGqrrAHZqw",
        "outputId": "f62e419d-7878-49b8-fa3d-e692c0ca7e5e"
      },
      "outputs": [
        {
          "output_type": "execute_result",
          "data": {
            "text/plain": [
              "{}"
            ]
          },
          "metadata": {},
          "execution_count": 120
        }
      ],
      "source": [
        "bob._objects"
      ]
    },
    {
      "cell_type": "code",
      "execution_count": 121,
      "metadata": {
        "colab": {
          "base_uri": "https://localhost:8080/"
        },
        "id": "R7a9mPAdHZqw",
        "outputId": "e6e1cbac-7448-4989-ad58-57d7423f746c"
      },
      "outputs": [
        {
          "output_type": "execute_result",
          "data": {
            "text/plain": [
              "{}"
            ]
          },
          "metadata": {},
          "execution_count": 121
        }
      ],
      "source": [
        "alice._objects"
      ]
    },
    {
      "cell_type": "code",
      "execution_count": null,
      "metadata": {
        "id": "GWVmSwWpHZqw"
      },
      "outputs": [],
      "source": [
        ""
      ]
    },
    {
      "cell_type": "code",
      "execution_count": null,
      "metadata": {
        "id": "5k9ay1NWHZqw"
      },
      "outputs": [],
      "source": [
        ""
      ]
    },
    {
      "cell_type": "markdown",
      "metadata": {
        "id": "cRveTaD9HZqw"
      },
      "source": [
        "# Lesson: Pointer Chain Operations"
      ]
    },
    {
      "cell_type": "code",
      "execution_count": 122,
      "metadata": {
        "colab": {
          "base_uri": "https://localhost:8080/"
        },
        "id": "aHO2P4v_HZqw",
        "outputId": "b9d368e6-4774-4b53-8556-e1d2c4b88d83"
      },
      "outputs": [
        {
          "output_type": "execute_result",
          "data": {
            "text/plain": [
              "<VirtualWorker id:alice #objects:0>"
            ]
          },
          "metadata": {},
          "execution_count": 122
        }
      ],
      "source": [
        "bob.clear_objects()\n",
        "alice.clear_objects()"
      ]
    },
    {
      "cell_type": "code",
      "execution_count": 123,
      "metadata": {
        "id": "uMsqjWytHZqw"
      },
      "outputs": [],
      "source": [
        "x = th.tensor([1,2,3,4,5]).send(bob)"
      ]
    },
    {
      "cell_type": "code",
      "execution_count": 124,
      "metadata": {
        "colab": {
          "base_uri": "https://localhost:8080/"
        },
        "id": "41IIqhvgHZqw",
        "outputId": "1955a359-8c03-479a-b59b-925a8585c408"
      },
      "outputs": [
        {
          "output_type": "execute_result",
          "data": {
            "text/plain": [
              "{43402665895: tensor([1, 2, 3, 4, 5])}"
            ]
          },
          "metadata": {},
          "execution_count": 124
        }
      ],
      "source": [
        "bob._objects"
      ]
    },
    {
      "cell_type": "code",
      "execution_count": 125,
      "metadata": {
        "colab": {
          "base_uri": "https://localhost:8080/"
        },
        "id": "rDTlr-OOHZqx",
        "outputId": "fba69a2e-2187-4be1-cb64-3c567d9dc561"
      },
      "outputs": [
        {
          "output_type": "execute_result",
          "data": {
            "text/plain": [
              "{}"
            ]
          },
          "metadata": {},
          "execution_count": 125
        }
      ],
      "source": [
        "alice._objects"
      ]
    },
    {
      "cell_type": "code",
      "execution_count": 126,
      "metadata": {
        "colab": {
          "base_uri": "https://localhost:8080/"
        },
        "id": "lovd1dmUHZqx",
        "outputId": "28e86448-737f-4c04-dee2-bfce822c80b7"
      },
      "outputs": [
        {
          "output_type": "execute_result",
          "data": {
            "text/plain": [
              "(Wrapper)>[PointerTensor | me:91510105081 -> alice:43402665895]"
            ]
          },
          "metadata": {},
          "execution_count": 126
        }
      ],
      "source": [
        "x.move(alice)"
      ]
    },
    {
      "cell_type": "code",
      "execution_count": 127,
      "metadata": {
        "colab": {
          "base_uri": "https://localhost:8080/"
        },
        "id": "Q6h_XJGrHZqx",
        "outputId": "ce0a08dd-5684-429b-8174-68ceb0ca7c6c"
      },
      "outputs": [
        {
          "output_type": "execute_result",
          "data": {
            "text/plain": [
              "{}"
            ]
          },
          "metadata": {},
          "execution_count": 127
        }
      ],
      "source": [
        "bob._objects"
      ]
    },
    {
      "cell_type": "code",
      "execution_count": 128,
      "metadata": {
        "colab": {
          "base_uri": "https://localhost:8080/"
        },
        "id": "gnbJZdOHHZqx",
        "outputId": "cefa7845-d74a-4714-c02b-2456e35865ea"
      },
      "outputs": [
        {
          "output_type": "execute_result",
          "data": {
            "text/plain": [
              "{43402665895: tensor([1, 2, 3, 4, 5])}"
            ]
          },
          "metadata": {},
          "execution_count": 128
        }
      ],
      "source": [
        "alice._objects"
      ]
    },
    {
      "cell_type": "markdown",
      "source": [
        "# Exercise: train a neural network in Federated Learning fashion using the MNIST dataset by `move` the model to each data location as in the toy dataset above and train them locally to that data owner.\n",
        "\n",
        "Use one of the 2 model architectures and 2 loss functions that fit them appropriately.\n",
        "\n",
        "\n",
        "\n",
        "*   Sum of Squared Error on FC layer or \n",
        "*   NLL loss on `log_softmax` layer.\n",
        "\n",
        "\n",
        "\n",
        "**Bonus**: To better protect the model privacy, instead of using `move` on the global model, \n",
        "\n",
        "\n",
        "1.   Create 1 virtual worker (secure worker) which will receive the **local** models from the workers.\n",
        "2.   Average all the weights and biases from each layer in the model\n",
        "(Hint: if your model contains 2 layers, take all those layers into the calculation in terms of `weights` and `bias`.)\n",
        "\n",
        "Hint snippet: \n",
        "\n",
        "\n",
        "\n",
        "```\n",
        "with torch.no_grad():\n",
        "\n",
        "      global_model.fc1.weight.set_(((alice_model.fc1.weight.data + bob_model.fc1.weight.data) / 2).get())\n",
        "\n",
        "      global_model.fc1.bias.set_(((alice_model.fc1.bias.data + bob_model.fc1.bias.data) / 2).get())\n",
        "```\n",
        "\n",
        "\n",
        "\n"
      ],
      "metadata": {
        "id": "O3ntAn0ncMVm"
      }
    },
    {
      "cell_type": "code",
      "source": [
        "import torch\n",
        "from torch import nn\n",
        "import torch.optim as optim\n",
        "import torch.nn.functional as F\n",
        "import torchvision\n",
        "from torchvision import datasets, transforms\n",
        "import syft as sy #import this last before syft modifies the library\n"
      ],
      "metadata": {
        "id": "mZN4p4vJcPHi"
      },
      "execution_count": 1,
      "outputs": []
    },
    {
      "cell_type": "code",
      "source": [
        "hook = sy.TorchHook(torch)"
      ],
      "metadata": {
        "id": "wlg-QvmNdCTn"
      },
      "execution_count": 2,
      "outputs": []
    },
    {
      "cell_type": "code",
      "source": [
        "alice = sy.VirtualWorker(hook, id=\"alice\")\n",
        "bob = sy.VirtualWorker(hook, id=\"bob\")"
      ],
      "metadata": {
        "id": "9oE1_JJddsuG"
      },
      "execution_count": 3,
      "outputs": []
    },
    {
      "cell_type": "code",
      "source": [
        "transform = transforms.Compose([\n",
        "    transforms.ToTensor(),\n",
        "    transforms.Normalize((0.5, ), (0.5, )),\n",
        "])\n",
        "\n",
        "train_set = datasets.MNIST(\n",
        "    \"~/.pytorch/MNIST_data/\", train=True, download=True, transform=transform)\n",
        "test_set = datasets.MNIST(\n",
        "    \"~/.pytorch/MNIST_data/\", train=False, download=True, transform=transform)\n",
        "train_set_small = torch.utils.data.Subset(train_set, range(0, 640)) #increase if you want your model to be more accurate, if you try to debug, use a small one first to avoid computation limit\n",
        "test_set_small = torch.utils.data.Subset(test_set, range(0, 640))\n",
        "\n",
        "federated_train_loader = sy.FederatedDataLoader(\n",
        "    train_set_small.federate((alice, bob)), batch_size=64, shuffle=True)\n",
        "\n",
        "test_loader = torch.utils.data.DataLoader(\n",
        "    test_set_small, batch_size=64, shuffle=True)"
      ],
      "metadata": {
        "id": "qoD_f9X6dYTl"
      },
      "execution_count": 8,
      "outputs": []
    },
    {
      "cell_type": "code",
      "source": [
        "import torch.optim as optim\n",
        "\n",
        "def one_hot_of(index_tensor):\n",
        "        \"\"\"\n",
        "        Transform to one hot tensor\n",
        "        \n",
        "        Example:\n",
        "            [0, 3, 9]\n",
        "            =>\n",
        "            [[1., 0., 0., 0., 0., 0., 0., 0., 0., 0.],\n",
        "             [0., 0., 0., 1., 0., 0., 0., 0., 0., 0.],\n",
        "             [0., 0., 0., 0., 0., 0., 0., 0., 0., 1.]]\n",
        "            \n",
        "        \"\"\"\n",
        "        onehot_tensor = torch.zeros(*index_tensor.shape, 10) # 10 classes for MNIST\n",
        "        onehot_tensor = onehot_tensor.scatter(1, index_tensor.view(-1, 1), 1)\n",
        "        return onehot_tensor"
      ],
      "metadata": {
        "id": "tFfiL71NvVqH"
      },
      "execution_count": 60,
      "outputs": []
    },
    {
      "cell_type": "code",
      "source": [
        "class Model(nn.Module): #returns FC layer on forward(self, x)\n",
        "    def __init__(self):\n",
        "        super(Model, self).__init__()\n",
        "        self.fc1 = nn.Linear(28 * 28, 128)\n",
        "        self.fc2 = nn.Linear(128, 64)\n",
        "        self.fc3 = nn.Linear(64, 10)\n",
        "\n",
        "    def forward(self, x):\n",
        "        x = x.view(-1, 28 * 28)\n",
        "        x = F.relu(self.fc1(x))\n",
        "        x = F.relu(self.fc2(x))\n",
        "        x = self.fc3(x)\n",
        "        return x\n",
        "class Model2(nn.Module): #returns log_softmax layer on forward(self, x)\n",
        "    def __init__(self):\n",
        "        super(Model, self).__init__()\n",
        "        self.fc1 = nn.Linear(784, 500)\n",
        "        self.fc2 = nn.Linear(500, 10)\n",
        "\n",
        "    def forward(self, x):\n",
        "        x = x.view(-1, 784)\n",
        "        x = self.fc1(x)\n",
        "        x = F.relu(x)\n",
        "        x = self.fc2(x)\n",
        "        return F.log_softmax(x, dim=1)\n",
        "\n",
        "model = Model()\n",
        "\n",
        "optimizer = optim.SGD(model.parameters(), lr=0.00003)\n",
        "optimizer = optimizer.fix_precision() \n"
      ],
      "metadata": {
        "id": "rExzS39gd2r3"
      },
      "execution_count": 90,
      "outputs": []
    },
    {
      "cell_type": "code",
      "source": [
        "for epoch in range(0, 5):\n",
        "    model.train()\n",
        "    for batch_idx, (data, target) in enumerate(federated_train_loader):\n",
        "        # send the model to the client device where the data is present\n",
        "        model.send(data.location)\n",
        "\n",
        "        # training the model\n",
        "        #zero grad\n",
        "        optimizer.zero_grad()\n",
        "        #convert labels to onehot_target using one_hot_of\n",
        "        onehot_target = one_hot_of(target.get())\n",
        "        #send onehot_target to local worker\n",
        "        local_target = onehot_target.send(data.location)\n",
        "        #do predictions on data\n",
        "        output = model(data)\n",
        "        #calculate loss based on output and onehot vector using SSE loss = (sum of diff) ** 2/batch_size\n",
        "        loss = ((output - local_target)**2).sum()/64\n",
        "\n",
        "        #do backpropagation\n",
        "        loss.backward()\n",
        "        #optimizer step\n",
        "        optimizer.step()\n",
        "\n",
        "        # get back the improved model\n",
        "        model.get()\n",
        "        if batch_idx % 100 == 0:\n",
        "            # get back the loss\n",
        "            loss = loss.get()\n",
        "            print('Epoch: {:2d} [{:5d}/{:5d} ({:3.0f}%)]\\tLoss: {:.6f}'.format(\n",
        "                epoch+1,\n",
        "                batch_idx * 64,\n",
        "                len(federated_train_loader) * 64,\n",
        "                100. * batch_idx / len(federated_train_loader),\n",
        "                loss.item()))"
      ],
      "metadata": {
        "id": "ZtISxiyr_EOh",
        "colab": {
          "base_uri": "https://localhost:8080/"
        },
        "outputId": "4507fec7-5750-430b-f0b6-cd5d2d1fa10d"
      },
      "execution_count": 91,
      "outputs": [
        {
          "output_type": "stream",
          "name": "stdout",
          "text": [
            "Epoch:  1 [    0/  640 (  0%)]\tLoss: 1.086621\n",
            "Epoch:  2 [    0/  640 (  0%)]\tLoss: 1.084376\n",
            "Epoch:  3 [    0/  640 (  0%)]\tLoss: 1.080011\n",
            "Epoch:  4 [    0/  640 (  0%)]\tLoss: 1.080568\n",
            "Epoch:  5 [    0/  640 (  0%)]\tLoss: 1.109118\n"
          ]
        }
      ]
    },
    {
      "cell_type": "markdown",
      "source": [
        "If you do it right, the loss will decrease after every epoch ![image.png](data:image/png;base64,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)"
      ],
      "metadata": {
        "id": "MHpX-E0gOj7r"
      }
    },
    {
      "cell_type": "markdown",
      "source": [
        "## Bonus Section: Secure Third Party"
      ],
      "metadata": {
        "id": "XGjVNVDe7m-t"
      }
    },
    {
      "cell_type": "code",
      "source": [
        "secure_worker = sy.VirtualWorker(hook, id=\"secure_worker\") #for bonus task only\n"
      ],
      "metadata": {
        "id": "GGuYIR56B4Rm"
      },
      "execution_count": null,
      "outputs": []
    },
    {
      "cell_type": "code",
      "source": [
        "global_model = Model() #initialize first model with random weights"
      ],
      "metadata": {
        "id": "JLbY8_5y7qFF"
      },
      "execution_count": null,
      "outputs": []
    },
    {
      "cell_type": "code",
      "source": [
        "from tqdm.notebook import tqdm\n",
        "for epoch in tqdm(range(10)):\n",
        "    bob_model = global_model.copy().send(bob)\n",
        "    alice_model = global_model.copy().send(alice)\n",
        "    #define optimizer SGD for each model\n",
        "\n",
        "    #\n",
        "    for batch_idx, (data, target) in tqdm(enumerate(federated_train_loader), total = len(federated_train_loader)):\n",
        "        onehot_target = one_hot_of(target.copy().get())\n",
        "        \n",
        "        if data.location.id == 'bob':\n",
        "          local_target = ... .send(bob)\n",
        "          # Train Bob's Model\n",
        "\n",
        "          #zero grad\n",
        "          ....zero_grad()\n",
        "          #prediction\n",
        "          bobs_pred = bob_model(data)\n",
        "          batch_size = bobs_pred.shape[0]\n",
        "          #calculate loss and gradients\n",
        "          bobs_loss = ...\n",
        "          bobs_loss.backward()\n",
        "          ....step()\n",
        "          #get loss for averaging\n",
        "          bobs_loss = bobs_loss.get().data\n",
        "        elif data.location.id == 'alice':\n",
        "          local_target = ... .send(alice)\n",
        "         # Train Alice's Model\n",
        "          ....zero_grad()\n",
        "          alices_pred = alice_model(data)\n",
        "          batch_size = alices_pred.shape[0]\n",
        "\n",
        "          alices_loss = ...\n",
        "\n",
        "          alices_loss.backward()\n",
        "\n",
        "          ....step()\n",
        "          alices_loss = alices_loss.get().data\n",
        "    #move both models to secure worker\n",
        "    # 2lines\n",
        "    \n",
        "    with torch.no_grad():\n",
        "        #weight averaging here\n",
        "\n",
        "    print(\"Epoch \" + str(epoch) + \": Bob:\" + str(bobs_loss) + \" Alice:\" + str(alices_loss))\n",
        "    # break"
      ],
      "metadata": {
        "colab": {
          "base_uri": "https://localhost:8080/",
          "height": 296,
          "referenced_widgets": [
            "4d730e43f77d4f36800fc34ba14b6ebb",
            "a8ef0c804105441b93d8439e6554264e",
            "ee13d4fe1b5642f590a06f4c7885c832",
            "6de795823c864da1845e3b4667ef8e99",
            "79dbf698d62e4ec9803c9120f965f1f1",
            "e9b0b2e1eae74ae888534ee20f5690bf",
            "0bbe18bef7dc4c89a5942018f25064cf",
            "36269d50cf2a47cd9639ad864093d799",
            "d9066961951941dfb9f6ccce33650c7d",
            "5ac4a2471da14d4480e7a36561b2a589",
            "7bc7a474c36e4ccfab7c1a8e842e7280",
            "0d775d45ed254a94ba8f3a21dd428e54",
            "235f97b3aeb84fdc8cd57eecb2a4d0a1",
            "f6b40813175b484fa3042bdecfb4db56",
            "c99b7557a6b944d9b79f78d1e06e3bd6",
            "a3b9cdf473914025bd1c61fef2600d79",
            "d7a7a0f0cd3a4d958686f7614523bc9e",
            "60bc8d4995ee457d8a09779f6cefb05c",
            "9792ab0ff1a843f6be3d27f05ea3bb7f",
            "ab0037d41f0049f8917f6123cb78cda2",
            "2d1dc143b21e4ec58fce81968b475dac",
            "0d6b987df9f34c8fac9ea2fe0b72015e",
            "8fcdc20d98544734af36ec344eba7464",
            "cde92f9af747415f903f32ee6345ddff",
            "a22dcabc668e479ea404c2c70901f782",
            "d11bcdcfb2a44056b0f8bd63df612856",
            "aef397a7a6da4211a3d31a83ed0face0",
            "ea3e8b9283754ac39854da46af7a020a",
            "d9535f06be2e4bf789053f764d9e6f8b",
            "41fd989bef544b05834461acd915826e",
            "7e0dd5c01e52401eaa899bc4452b1228",
            "1dbb8eb6a63d440eb1a8213547da5a62",
            "1e02e3edfe5f42c89197cd6484c334a0",
            "712d0c3eb4b044b4b06f92c3f03ec2df",
            "ff38c64efcde4bf08a0ea332885e17b2",
            "a854467251c74e2fb0d0df1b5890a440",
            "fbe431d6aa2e4be78e535520aacaf9ea",
            "1d350356a0c14ff18892bfc6aa8585ec",
            "4fea0d88230e4e9bb434c9ee748305db",
            "c867fecda7404071a679b7e9d8e4e485",
            "10d291e70828418798191f37fd47e070",
            "1f9e8c8ed4cf455ca8865a85a1ce59e0",
            "555ccd56b4c346bcad81bc4ed244fa55",
            "b0704c2a460043eea4c1cb509d088bc5",
            "268b95fdadac441c9693c4243c156299",
            "f6cbddaa732b4169982d173f60105625",
            "d45fc00de59a4dfe91e568d7d5da86eb",
            "8d0e4ff89f0c4516b6aace87ac795bd0",
            "2a8a3f82c1414528bcedefb084eb53ab",
            "52ba9715261d477983f0065df8ebe7ae",
            "ed77891259f947188257114174a99345",
            "a38621493a174551b59ff80864e6b993",
            "8b97f8c1da0c46a189fac67c7156bc5a",
            "25addadf64e644739079605ad439f416",
            "e67c5348beb448d9af3552295d50cbc8",
            "d25ea9c24ff946b0917a2742bbf8741c",
            "ab57c9d29f36467188514336b696f3ec",
            "03d2edf97a9a48e0b1525615f4772606",
            "c6c92160728d4e509a95316f80aca179",
            "3483b317642548d185ae36c90048b22c",
            "902e117f711a4461a6b920c3d82c53b1",
            "b295fa47e9ad459999c13756498bd790",
            "b8fbe1da610e4b0297ecb59e3d57ee73",
            "0636aeff31bf4685ae33136746d0e5b8",
            "a13f78d501bb449b971cfcf2a9f08d79",
            "09a024cd9da447dd96c45b9a741f4c2c"
          ]
        },
        "id": "hTbve7_Js4_A",
        "outputId": "56f2728d-0fb2-48e9-b83f-d0abbb171902"
      },
      "execution_count": null,
      "outputs": [
        {
          "output_type": "display_data",
          "data": {
            "application/vnd.jupyter.widget-view+json": {
              "model_id": "4d730e43f77d4f36800fc34ba14b6ebb",
              "version_minor": 0,
              "version_major": 2
            },
            "text/plain": [
              "  0%|          | 0/5 [00:00<?, ?it/s]"
            ]
          },
          "metadata": {}
        },
        {
          "output_type": "display_data",
          "data": {
            "application/vnd.jupyter.widget-view+json": {
              "model_id": "0d775d45ed254a94ba8f3a21dd428e54",
              "version_minor": 0,
              "version_major": 2
            },
            "text/plain": [
              "  0%|          | 0/10 [00:00<?, ?it/s]"
            ]
          },
          "metadata": {}
        },
        {
          "output_type": "stream",
          "name": "stdout",
          "text": [
            "Epoch 0: Bob:tensor(0.9070) Alice:tensor(0.9307)\n"
          ]
        },
        {
          "output_type": "display_data",
          "data": {
            "application/vnd.jupyter.widget-view+json": {
              "model_id": "8fcdc20d98544734af36ec344eba7464",
              "version_minor": 0,
              "version_major": 2
            },
            "text/plain": [
              "  0%|          | 0/10 [00:00<?, ?it/s]"
            ]
          },
          "metadata": {}
        },
        {
          "output_type": "stream",
          "name": "stdout",
          "text": [
            "Epoch 1: Bob:tensor(0.8772) Alice:tensor(0.8799)\n"
          ]
        },
        {
          "output_type": "display_data",
          "data": {
            "application/vnd.jupyter.widget-view+json": {
              "model_id": "712d0c3eb4b044b4b06f92c3f03ec2df",
              "version_minor": 0,
              "version_major": 2
            },
            "text/plain": [
              "  0%|          | 0/10 [00:00<?, ?it/s]"
            ]
          },
          "metadata": {}
        },
        {
          "output_type": "stream",
          "name": "stdout",
          "text": [
            "Epoch 2: Bob:tensor(0.8307) Alice:tensor(0.8621)\n"
          ]
        },
        {
          "output_type": "display_data",
          "data": {
            "application/vnd.jupyter.widget-view+json": {
              "model_id": "268b95fdadac441c9693c4243c156299",
              "version_minor": 0,
              "version_major": 2
            },
            "text/plain": [
              "  0%|          | 0/10 [00:00<?, ?it/s]"
            ]
          },
          "metadata": {}
        },
        {
          "output_type": "stream",
          "name": "stdout",
          "text": [
            "Epoch 3: Bob:tensor(0.8225) Alice:tensor(0.8023)\n"
          ]
        },
        {
          "output_type": "display_data",
          "data": {
            "application/vnd.jupyter.widget-view+json": {
              "model_id": "d25ea9c24ff946b0917a2742bbf8741c",
              "version_minor": 0,
              "version_major": 2
            },
            "text/plain": [
              "  0%|          | 0/10 [00:00<?, ?it/s]"
            ]
          },
          "metadata": {}
        },
        {
          "output_type": "stream",
          "name": "stdout",
          "text": [
            "Epoch 4: Bob:tensor(0.7809) Alice:tensor(0.7667)\n"
          ]
        }
      ]
    },
    {
      "cell_type": "markdown",
      "source": [
        "Each model trains independently and improves (via loss decrease), the global model benefits."
      ],
      "metadata": {
        "id": "LZa8mmYsNKYE"
      }
    },
    {
      "cell_type": "markdown",
      "source": [
        "![image.png](data:image/png;base64,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)"
      ],
      "metadata": {
        "id": "Fs1jmHowNHwU"
      }
    },
    {
      "cell_type": "code",
      "source": [
        ""
      ],
      "metadata": {
        "id": "mvClXYJaNGHK"
      },
      "execution_count": null,
      "outputs": []
    },
    {
      "cell_type": "code",
      "source": [
        "import time\n",
        "def test(model, private_test_loader):\n",
        "    test_loss = 0\n",
        "    correct = 0\n",
        "    # print(model.location)\n",
        "\n",
        "    model.eval()\n",
        "    with torch.no_grad():\n",
        "        for data, target in private_test_loader:\n",
        "            start_time = time.time()\n",
        "            output = model(data)\n",
        "            pred = output.argmax(dim=1)\n",
        "            correct += pred.eq(target.view_as(pred)).sum()\n",
        "    accuracy =  100. * correct.item() / (len(private_test_loader) * 64)\n",
        "    print('\\nTest set: Accuracy: {}/{} ({:.0f}%)\\n'.format(\n",
        "        correct.item(), len(private_test_loader)* 64,\n",
        "       accuracy))\n",
        "    return accuracy"
      ],
      "metadata": {
        "id": "-3V6g2osd4MX"
      },
      "execution_count": null,
      "outputs": []
    },
    {
      "cell_type": "code",
      "source": [
        "test(global_model, test_loader), test(alice_model.copy().get(), test_loader), test(bob_model.copy().get(), test_loader)"
      ],
      "metadata": {
        "id": "mgpx28nZOFfu"
      },
      "execution_count": null,
      "outputs": []
    }
  ],
  "metadata": {
    "kernelspec": {
      "display_name": "Python 3",
      "language": "python",
      "name": "python3"
    },
    "language_info": {
      "codemirror_mode": {
        "name": "ipython",
        "version": 3
      },
      "file_extension": ".py",
      "mimetype": "text/x-python",
      "name": "python",
      "nbconvert_exporter": "python",
      "pygments_lexer": "ipython3",
      "version": "3.6.1"
    },
    "colab": {
      "name": "Copy of Federated Learning - Exercises.ipynb",
      "provenance": [],
      "collapsed_sections": [],
      "toc_visible": true
    },
    "widgets": {
      "application/vnd.jupyter.widget-state+json": {
        "4d730e43f77d4f36800fc34ba14b6ebb": {
          "model_module": "@jupyter-widgets/controls",
          "model_name": "HBoxModel",
          "model_module_version": "1.5.0",
          "state": {
            "_view_name": "HBoxView",
            "_dom_classes": [],
            "_model_name": "HBoxModel",
            "_view_module": "@jupyter-widgets/controls",
            "_model_module_version": "1.5.0",
            "_view_count": null,
            "_view_module_version": "1.5.0",
            "box_style": "",
            "layout": "IPY_MODEL_a8ef0c804105441b93d8439e6554264e",
            "_model_module": "@jupyter-widgets/controls",
            "children": [
              "IPY_MODEL_ee13d4fe1b5642f590a06f4c7885c832",
              "IPY_MODEL_6de795823c864da1845e3b4667ef8e99",
              "IPY_MODEL_79dbf698d62e4ec9803c9120f965f1f1"
            ]
          }
        },
        "a8ef0c804105441b93d8439e6554264e": {
          "model_module": "@jupyter-widgets/base",
          "model_name": "LayoutModel",
          "model_module_version": "1.2.0",
          "state": {
            "_view_name": "LayoutView",
            "grid_template_rows": null,
            "right": null,
            "justify_content": null,
            "_view_module": "@jupyter-widgets/base",
            "overflow": null,
            "_model_module_version": "1.2.0",
            "_view_count": null,
            "flex_flow": null,
            "width": null,
            "min_width": null,
            "border": null,
            "align_items": null,
            "bottom": null,
            "_model_module": "@jupyter-widgets/base",
            "top": null,
            "grid_column": null,
            "overflow_y": null,
            "overflow_x": null,
            "grid_auto_flow": null,
            "grid_area": null,
            "grid_template_columns": null,
            "flex": null,
            "_model_name": "LayoutModel",
            "justify_items": null,
            "grid_row": null,
            "max_height": null,
            "align_content": null,
            "visibility": null,
            "align_self": null,
            "height": null,
            "min_height": null,
            "padding": null,
            "grid_auto_rows": null,
            "grid_gap": null,
            "max_width": null,
            "order": null,
            "_view_module_version": "1.2.0",
            "grid_template_areas": null,
            "object_position": null,
            "object_fit": null,
            "grid_auto_columns": null,
            "margin": null,
            "display": null,
            "left": null
          }
        },
        "ee13d4fe1b5642f590a06f4c7885c832": {
          "model_module": "@jupyter-widgets/controls",
          "model_name": "HTMLModel",
          "model_module_version": "1.5.0",
          "state": {
            "_view_name": "HTMLView",
            "style": "IPY_MODEL_e9b0b2e1eae74ae888534ee20f5690bf",
            "_dom_classes": [],
            "description": "",
            "_model_name": "HTMLModel",
            "placeholder": "​",
            "_view_module": "@jupyter-widgets/controls",
            "_model_module_version": "1.5.0",
            "value": "100%",
            "_view_count": null,
            "_view_module_version": "1.5.0",
            "description_tooltip": null,
            "_model_module": "@jupyter-widgets/controls",
            "layout": "IPY_MODEL_0bbe18bef7dc4c89a5942018f25064cf"
          }
        },
        "6de795823c864da1845e3b4667ef8e99": {
          "model_module": "@jupyter-widgets/controls",
          "model_name": "FloatProgressModel",
          "model_module_version": "1.5.0",
          "state": {
            "_view_name": "ProgressView",
            "style": "IPY_MODEL_36269d50cf2a47cd9639ad864093d799",
            "_dom_classes": [],
            "description": "",
            "_model_name": "FloatProgressModel",
            "bar_style": "success",
            "max": 5,
            "_view_module": "@jupyter-widgets/controls",
            "_model_module_version": "1.5.0",
            "value": 5,
            "_view_count": null,
            "_view_module_version": "1.5.0",
            "orientation": "horizontal",
            "min": 0,
            "description_tooltip": null,
            "_model_module": "@jupyter-widgets/controls",
            "layout": "IPY_MODEL_d9066961951941dfb9f6ccce33650c7d"
          }
        },
        "79dbf698d62e4ec9803c9120f965f1f1": {
          "model_module": "@jupyter-widgets/controls",
          "model_name": "HTMLModel",
          "model_module_version": "1.5.0",
          "state": {
            "_view_name": "HTMLView",
            "style": "IPY_MODEL_5ac4a2471da14d4480e7a36561b2a589",
            "_dom_classes": [],
            "description": "",
            "_model_name": "HTMLModel",
            "placeholder": "​",
            "_view_module": "@jupyter-widgets/controls",
            "_model_module_version": "1.5.0",
            "value": " 5/5 [00:05&lt;00:00,  1.05s/it]",
            "_view_count": null,
            "_view_module_version": "1.5.0",
            "description_tooltip": null,
            "_model_module": "@jupyter-widgets/controls",
            "layout": "IPY_MODEL_7bc7a474c36e4ccfab7c1a8e842e7280"
          }
        },
        "e9b0b2e1eae74ae888534ee20f5690bf": {
          "model_module": "@jupyter-widgets/controls",
          "model_name": "DescriptionStyleModel",
          "model_module_version": "1.5.0",
          "state": {
            "_view_name": "StyleView",
            "_model_name": "DescriptionStyleModel",
            "description_width": "",
            "_view_module": "@jupyter-widgets/base",
            "_model_module_version": "1.5.0",
            "_view_count": null,
            "_view_module_version": "1.2.0",
            "_model_module": "@jupyter-widgets/controls"
          }
        },
        "0bbe18bef7dc4c89a5942018f25064cf": {
          "model_module": "@jupyter-widgets/base",
          "model_name": "LayoutModel",
          "model_module_version": "1.2.0",
          "state": {
            "_view_name": "LayoutView",
            "grid_template_rows": null,
            "right": null,
            "justify_content": null,
            "_view_module": "@jupyter-widgets/base",
            "overflow": null,
            "_model_module_version": "1.2.0",
            "_view_count": null,
            "flex_flow": null,
            "width": null,
            "min_width": null,
            "border": null,
            "align_items": null,
            "bottom": null,
            "_model_module": "@jupyter-widgets/base",
            "top": null,
            "grid_column": null,
            "overflow_y": null,
            "overflow_x": null,
            "grid_auto_flow": null,
            "grid_area": null,
            "grid_template_columns": null,
            "flex": null,
            "_model_name": "LayoutModel",
            "justify_items": null,
            "grid_row": null,
            "max_height": null,
            "align_content": null,
            "visibility": null,
            "align_self": null,
            "height": null,
            "min_height": null,
            "padding": null,
            "grid_auto_rows": null,
            "grid_gap": null,
            "max_width": null,
            "order": null,
            "_view_module_version": "1.2.0",
            "grid_template_areas": null,
            "object_position": null,
            "object_fit": null,
            "grid_auto_columns": null,
            "margin": null,
            "display": null,
            "left": null
          }
        },
        "36269d50cf2a47cd9639ad864093d799": {
          "model_module": "@jupyter-widgets/controls",
          "model_name": "ProgressStyleModel",
          "model_module_version": "1.5.0",
          "state": {
            "_view_name": "StyleView",
            "_model_name": "ProgressStyleModel",
            "description_width": "",
            "_view_module": "@jupyter-widgets/base",
            "_model_module_version": "1.5.0",
            "_view_count": null,
            "_view_module_version": "1.2.0",
            "bar_color": null,
            "_model_module": "@jupyter-widgets/controls"
          }
        },
        "d9066961951941dfb9f6ccce33650c7d": {
          "model_module": "@jupyter-widgets/base",
          "model_name": "LayoutModel",
          "model_module_version": "1.2.0",
          "state": {
            "_view_name": "LayoutView",
            "grid_template_rows": null,
            "right": null,
            "justify_content": null,
            "_view_module": "@jupyter-widgets/base",
            "overflow": null,
            "_model_module_version": "1.2.0",
            "_view_count": null,
            "flex_flow": null,
            "width": null,
            "min_width": null,
            "border": null,
            "align_items": null,
            "bottom": null,
            "_model_module": "@jupyter-widgets/base",
            "top": null,
            "grid_column": null,
            "overflow_y": null,
            "overflow_x": null,
            "grid_auto_flow": null,
            "grid_area": null,
            "grid_template_columns": null,
            "flex": null,
            "_model_name": "LayoutModel",
            "justify_items": null,
            "grid_row": null,
            "max_height": null,
            "align_content": null,
            "visibility": null,
            "align_self": null,
            "height": null,
            "min_height": null,
            "padding": null,
            "grid_auto_rows": null,
            "grid_gap": null,
            "max_width": null,
            "order": null,
            "_view_module_version": "1.2.0",
            "grid_template_areas": null,
            "object_position": null,
            "object_fit": null,
            "grid_auto_columns": null,
            "margin": null,
            "display": null,
            "left": null
          }
        },
        "5ac4a2471da14d4480e7a36561b2a589": {
          "model_module": "@jupyter-widgets/controls",
          "model_name": "DescriptionStyleModel",
          "model_module_version": "1.5.0",
          "state": {
            "_view_name": "StyleView",
            "_model_name": "DescriptionStyleModel",
            "description_width": "",
            "_view_module": "@jupyter-widgets/base",
            "_model_module_version": "1.5.0",
            "_view_count": null,
            "_view_module_version": "1.2.0",
            "_model_module": "@jupyter-widgets/controls"
          }
        },
        "7bc7a474c36e4ccfab7c1a8e842e7280": {
          "model_module": "@jupyter-widgets/base",
          "model_name": "LayoutModel",
          "model_module_version": "1.2.0",
          "state": {
            "_view_name": "LayoutView",
            "grid_template_rows": null,
            "right": null,
            "justify_content": null,
            "_view_module": "@jupyter-widgets/base",
            "overflow": null,
            "_model_module_version": "1.2.0",
            "_view_count": null,
            "flex_flow": null,
            "width": null,
            "min_width": null,
            "border": null,
            "align_items": null,
            "bottom": null,
            "_model_module": "@jupyter-widgets/base",
            "top": null,
            "grid_column": null,
            "overflow_y": null,
            "overflow_x": null,
            "grid_auto_flow": null,
            "grid_area": null,
            "grid_template_columns": null,
            "flex": null,
            "_model_name": "LayoutModel",
            "justify_items": null,
            "grid_row": null,
            "max_height": null,
            "align_content": null,
            "visibility": null,
            "align_self": null,
            "height": null,
            "min_height": null,
            "padding": null,
            "grid_auto_rows": null,
            "grid_gap": null,
            "max_width": null,
            "order": null,
            "_view_module_version": "1.2.0",
            "grid_template_areas": null,
            "object_position": null,
            "object_fit": null,
            "grid_auto_columns": null,
            "margin": null,
            "display": null,
            "left": null
          }
        },
        "0d775d45ed254a94ba8f3a21dd428e54": {
          "model_module": "@jupyter-widgets/controls",
          "model_name": "HBoxModel",
          "model_module_version": "1.5.0",
          "state": {
            "_view_name": "HBoxView",
            "_dom_classes": [],
            "_model_name": "HBoxModel",
            "_view_module": "@jupyter-widgets/controls",
            "_model_module_version": "1.5.0",
            "_view_count": null,
            "_view_module_version": "1.5.0",
            "box_style": "",
            "layout": "IPY_MODEL_235f97b3aeb84fdc8cd57eecb2a4d0a1",
            "_model_module": "@jupyter-widgets/controls",
            "children": [
              "IPY_MODEL_f6b40813175b484fa3042bdecfb4db56",
              "IPY_MODEL_c99b7557a6b944d9b79f78d1e06e3bd6",
              "IPY_MODEL_a3b9cdf473914025bd1c61fef2600d79"
            ]
          }
        },
        "235f97b3aeb84fdc8cd57eecb2a4d0a1": {
          "model_module": "@jupyter-widgets/base",
          "model_name": "LayoutModel",
          "model_module_version": "1.2.0",
          "state": {
            "_view_name": "LayoutView",
            "grid_template_rows": null,
            "right": null,
            "justify_content": null,
            "_view_module": "@jupyter-widgets/base",
            "overflow": null,
            "_model_module_version": "1.2.0",
            "_view_count": null,
            "flex_flow": null,
            "width": null,
            "min_width": null,
            "border": null,
            "align_items": null,
            "bottom": null,
            "_model_module": "@jupyter-widgets/base",
            "top": null,
            "grid_column": null,
            "overflow_y": null,
            "overflow_x": null,
            "grid_auto_flow": null,
            "grid_area": null,
            "grid_template_columns": null,
            "flex": null,
            "_model_name": "LayoutModel",
            "justify_items": null,
            "grid_row": null,
            "max_height": null,
            "align_content": null,
            "visibility": null,
            "align_self": null,
            "height": null,
            "min_height": null,
            "padding": null,
            "grid_auto_rows": null,
            "grid_gap": null,
            "max_width": null,
            "order": null,
            "_view_module_version": "1.2.0",
            "grid_template_areas": null,
            "object_position": null,
            "object_fit": null,
            "grid_auto_columns": null,
            "margin": null,
            "display": null,
            "left": null
          }
        },
        "f6b40813175b484fa3042bdecfb4db56": {
          "model_module": "@jupyter-widgets/controls",
          "model_name": "HTMLModel",
          "model_module_version": "1.5.0",
          "state": {
            "_view_name": "HTMLView",
            "style": "IPY_MODEL_d7a7a0f0cd3a4d958686f7614523bc9e",
            "_dom_classes": [],
            "description": "",
            "_model_name": "HTMLModel",
            "placeholder": "​",
            "_view_module": "@jupyter-widgets/controls",
            "_model_module_version": "1.5.0",
            "value": "100%",
            "_view_count": null,
            "_view_module_version": "1.5.0",
            "description_tooltip": null,
            "_model_module": "@jupyter-widgets/controls",
            "layout": "IPY_MODEL_60bc8d4995ee457d8a09779f6cefb05c"
          }
        },
        "c99b7557a6b944d9b79f78d1e06e3bd6": {
          "model_module": "@jupyter-widgets/controls",
          "model_name": "FloatProgressModel",
          "model_module_version": "1.5.0",
          "state": {
            "_view_name": "ProgressView",
            "style": "IPY_MODEL_9792ab0ff1a843f6be3d27f05ea3bb7f",
            "_dom_classes": [],
            "description": "",
            "_model_name": "FloatProgressModel",
            "bar_style": "success",
            "max": 10,
            "_view_module": "@jupyter-widgets/controls",
            "_model_module_version": "1.5.0",
            "value": 10,
            "_view_count": null,
            "_view_module_version": "1.5.0",
            "orientation": "horizontal",
            "min": 0,
            "description_tooltip": null,
            "_model_module": "@jupyter-widgets/controls",
            "layout": "IPY_MODEL_ab0037d41f0049f8917f6123cb78cda2"
          }
        },
        "a3b9cdf473914025bd1c61fef2600d79": {
          "model_module": "@jupyter-widgets/controls",
          "model_name": "HTMLModel",
          "model_module_version": "1.5.0",
          "state": {
            "_view_name": "HTMLView",
            "style": "IPY_MODEL_2d1dc143b21e4ec58fce81968b475dac",
            "_dom_classes": [],
            "description": "",
            "_model_name": "HTMLModel",
            "placeholder": "​",
            "_view_module": "@jupyter-widgets/controls",
            "_model_module_version": "1.5.0",
            "value": " 10/10 [00:01&lt;00:00,  9.77it/s]",
            "_view_count": null,
            "_view_module_version": "1.5.0",
            "description_tooltip": null,
            "_model_module": "@jupyter-widgets/controls",
            "layout": "IPY_MODEL_0d6b987df9f34c8fac9ea2fe0b72015e"
          }
        },
        "d7a7a0f0cd3a4d958686f7614523bc9e": {
          "model_module": "@jupyter-widgets/controls",
          "model_name": "DescriptionStyleModel",
          "model_module_version": "1.5.0",
          "state": {
            "_view_name": "StyleView",
            "_model_name": "DescriptionStyleModel",
            "description_width": "",
            "_view_module": "@jupyter-widgets/base",
            "_model_module_version": "1.5.0",
            "_view_count": null,
            "_view_module_version": "1.2.0",
            "_model_module": "@jupyter-widgets/controls"
          }
        },
        "60bc8d4995ee457d8a09779f6cefb05c": {
          "model_module": "@jupyter-widgets/base",
          "model_name": "LayoutModel",
          "model_module_version": "1.2.0",
          "state": {
            "_view_name": "LayoutView",
            "grid_template_rows": null,
            "right": null,
            "justify_content": null,
            "_view_module": "@jupyter-widgets/base",
            "overflow": null,
            "_model_module_version": "1.2.0",
            "_view_count": null,
            "flex_flow": null,
            "width": null,
            "min_width": null,
            "border": null,
            "align_items": null,
            "bottom": null,
            "_model_module": "@jupyter-widgets/base",
            "top": null,
            "grid_column": null,
            "overflow_y": null,
            "overflow_x": null,
            "grid_auto_flow": null,
            "grid_area": null,
            "grid_template_columns": null,
            "flex": null,
            "_model_name": "LayoutModel",
            "justify_items": null,
            "grid_row": null,
            "max_height": null,
            "align_content": null,
            "visibility": null,
            "align_self": null,
            "height": null,
            "min_height": null,
            "padding": null,
            "grid_auto_rows": null,
            "grid_gap": null,
            "max_width": null,
            "order": null,
            "_view_module_version": "1.2.0",
            "grid_template_areas": null,
            "object_position": null,
            "object_fit": null,
            "grid_auto_columns": null,
            "margin": null,
            "display": null,
            "left": null
          }
        },
        "9792ab0ff1a843f6be3d27f05ea3bb7f": {
          "model_module": "@jupyter-widgets/controls",
          "model_name": "ProgressStyleModel",
          "model_module_version": "1.5.0",
          "state": {
            "_view_name": "StyleView",
            "_model_name": "ProgressStyleModel",
            "description_width": "",
            "_view_module": "@jupyter-widgets/base",
            "_model_module_version": "1.5.0",
            "_view_count": null,
            "_view_module_version": "1.2.0",
            "bar_color": null,
            "_model_module": "@jupyter-widgets/controls"
          }
        },
        "ab0037d41f0049f8917f6123cb78cda2": {
          "model_module": "@jupyter-widgets/base",
          "model_name": "LayoutModel",
          "model_module_version": "1.2.0",
          "state": {
            "_view_name": "LayoutView",
            "grid_template_rows": null,
            "right": null,
            "justify_content": null,
            "_view_module": "@jupyter-widgets/base",
            "overflow": null,
            "_model_module_version": "1.2.0",
            "_view_count": null,
            "flex_flow": null,
            "width": null,
            "min_width": null,
            "border": null,
            "align_items": null,
            "bottom": null,
            "_model_module": "@jupyter-widgets/base",
            "top": null,
            "grid_column": null,
            "overflow_y": null,
            "overflow_x": null,
            "grid_auto_flow": null,
            "grid_area": null,
            "grid_template_columns": null,
            "flex": null,
            "_model_name": "LayoutModel",
            "justify_items": null,
            "grid_row": null,
            "max_height": null,
            "align_content": null,
            "visibility": null,
            "align_self": null,
            "height": null,
            "min_height": null,
            "padding": null,
            "grid_auto_rows": null,
            "grid_gap": null,
            "max_width": null,
            "order": null,
            "_view_module_version": "1.2.0",
            "grid_template_areas": null,
            "object_position": null,
            "object_fit": null,
            "grid_auto_columns": null,
            "margin": null,
            "display": null,
            "left": null
          }
        },
        "2d1dc143b21e4ec58fce81968b475dac": {
          "model_module": "@jupyter-widgets/controls",
          "model_name": "DescriptionStyleModel",
          "model_module_version": "1.5.0",
          "state": {
            "_view_name": "StyleView",
            "_model_name": "DescriptionStyleModel",
            "description_width": "",
            "_view_module": "@jupyter-widgets/base",
            "_model_module_version": "1.5.0",
            "_view_count": null,
            "_view_module_version": "1.2.0",
            "_model_module": "@jupyter-widgets/controls"
          }
        },
        "0d6b987df9f34c8fac9ea2fe0b72015e": {
          "model_module": "@jupyter-widgets/base",
          "model_name": "LayoutModel",
          "model_module_version": "1.2.0",
          "state": {
            "_view_name": "LayoutView",
            "grid_template_rows": null,
            "right": null,
            "justify_content": null,
            "_view_module": "@jupyter-widgets/base",
            "overflow": null,
            "_model_module_version": "1.2.0",
            "_view_count": null,
            "flex_flow": null,
            "width": null,
            "min_width": null,
            "border": null,
            "align_items": null,
            "bottom": null,
            "_model_module": "@jupyter-widgets/base",
            "top": null,
            "grid_column": null,
            "overflow_y": null,
            "overflow_x": null,
            "grid_auto_flow": null,
            "grid_area": null,
            "grid_template_columns": null,
            "flex": null,
            "_model_name": "LayoutModel",
            "justify_items": null,
            "grid_row": null,
            "max_height": null,
            "align_content": null,
            "visibility": null,
            "align_self": null,
            "height": null,
            "min_height": null,
            "padding": null,
            "grid_auto_rows": null,
            "grid_gap": null,
            "max_width": null,
            "order": null,
            "_view_module_version": "1.2.0",
            "grid_template_areas": null,
            "object_position": null,
            "object_fit": null,
            "grid_auto_columns": null,
            "margin": null,
            "display": null,
            "left": null
          }
        },
        "8fcdc20d98544734af36ec344eba7464": {
          "model_module": "@jupyter-widgets/controls",
          "model_name": "HBoxModel",
          "model_module_version": "1.5.0",
          "state": {
            "_view_name": "HBoxView",
            "_dom_classes": [],
            "_model_name": "HBoxModel",
            "_view_module": "@jupyter-widgets/controls",
            "_model_module_version": "1.5.0",
            "_view_count": null,
            "_view_module_version": "1.5.0",
            "box_style": "",
            "layout": "IPY_MODEL_cde92f9af747415f903f32ee6345ddff",
            "_model_module": "@jupyter-widgets/controls",
            "children": [
              "IPY_MODEL_a22dcabc668e479ea404c2c70901f782",
              "IPY_MODEL_d11bcdcfb2a44056b0f8bd63df612856",
              "IPY_MODEL_aef397a7a6da4211a3d31a83ed0face0"
            ]
          }
        },
        "cde92f9af747415f903f32ee6345ddff": {
          "model_module": "@jupyter-widgets/base",
          "model_name": "LayoutModel",
          "model_module_version": "1.2.0",
          "state": {
            "_view_name": "LayoutView",
            "grid_template_rows": null,
            "right": null,
            "justify_content": null,
            "_view_module": "@jupyter-widgets/base",
            "overflow": null,
            "_model_module_version": "1.2.0",
            "_view_count": null,
            "flex_flow": null,
            "width": null,
            "min_width": null,
            "border": null,
            "align_items": null,
            "bottom": null,
            "_model_module": "@jupyter-widgets/base",
            "top": null,
            "grid_column": null,
            "overflow_y": null,
            "overflow_x": null,
            "grid_auto_flow": null,
            "grid_area": null,
            "grid_template_columns": null,
            "flex": null,
            "_model_name": "LayoutModel",
            "justify_items": null,
            "grid_row": null,
            "max_height": null,
            "align_content": null,
            "visibility": null,
            "align_self": null,
            "height": null,
            "min_height": null,
            "padding": null,
            "grid_auto_rows": null,
            "grid_gap": null,
            "max_width": null,
            "order": null,
            "_view_module_version": "1.2.0",
            "grid_template_areas": null,
            "object_position": null,
            "object_fit": null,
            "grid_auto_columns": null,
            "margin": null,
            "display": null,
            "left": null
          }
        },
        "a22dcabc668e479ea404c2c70901f782": {
          "model_module": "@jupyter-widgets/controls",
          "model_name": "HTMLModel",
          "model_module_version": "1.5.0",
          "state": {
            "_view_name": "HTMLView",
            "style": "IPY_MODEL_ea3e8b9283754ac39854da46af7a020a",
            "_dom_classes": [],
            "description": "",
            "_model_name": "HTMLModel",
            "placeholder": "​",
            "_view_module": "@jupyter-widgets/controls",
            "_model_module_version": "1.5.0",
            "value": "100%",
            "_view_count": null,
            "_view_module_version": "1.5.0",
            "description_tooltip": null,
            "_model_module": "@jupyter-widgets/controls",
            "layout": "IPY_MODEL_d9535f06be2e4bf789053f764d9e6f8b"
          }
        },
        "d11bcdcfb2a44056b0f8bd63df612856": {
          "model_module": "@jupyter-widgets/controls",
          "model_name": "FloatProgressModel",
          "model_module_version": "1.5.0",
          "state": {
            "_view_name": "ProgressView",
            "style": "IPY_MODEL_41fd989bef544b05834461acd915826e",
            "_dom_classes": [],
            "description": "",
            "_model_name": "FloatProgressModel",
            "bar_style": "success",
            "max": 10,
            "_view_module": "@jupyter-widgets/controls",
            "_model_module_version": "1.5.0",
            "value": 10,
            "_view_count": null,
            "_view_module_version": "1.5.0",
            "orientation": "horizontal",
            "min": 0,
            "description_tooltip": null,
            "_model_module": "@jupyter-widgets/controls",
            "layout": "IPY_MODEL_7e0dd5c01e52401eaa899bc4452b1228"
          }
        },
        "aef397a7a6da4211a3d31a83ed0face0": {
          "model_module": "@jupyter-widgets/controls",
          "model_name": "HTMLModel",
          "model_module_version": "1.5.0",
          "state": {
            "_view_name": "HTMLView",
            "style": "IPY_MODEL_1dbb8eb6a63d440eb1a8213547da5a62",
            "_dom_classes": [],
            "description": "",
            "_model_name": "HTMLModel",
            "placeholder": "​",
            "_view_module": "@jupyter-widgets/controls",
            "_model_module_version": "1.5.0",
            "value": " 10/10 [00:00&lt;00:00, 10.93it/s]",
            "_view_count": null,
            "_view_module_version": "1.5.0",
            "description_tooltip": null,
            "_model_module": "@jupyter-widgets/controls",
            "layout": "IPY_MODEL_1e02e3edfe5f42c89197cd6484c334a0"
          }
        },
        "ea3e8b9283754ac39854da46af7a020a": {
          "model_module": "@jupyter-widgets/controls",
          "model_name": "DescriptionStyleModel",
          "model_module_version": "1.5.0",
          "state": {
            "_view_name": "StyleView",
            "_model_name": "DescriptionStyleModel",
            "description_width": "",
            "_view_module": "@jupyter-widgets/base",
            "_model_module_version": "1.5.0",
            "_view_count": null,
            "_view_module_version": "1.2.0",
            "_model_module": "@jupyter-widgets/controls"
          }
        },
        "d9535f06be2e4bf789053f764d9e6f8b": {
          "model_module": "@jupyter-widgets/base",
          "model_name": "LayoutModel",
          "model_module_version": "1.2.0",
          "state": {
            "_view_name": "LayoutView",
            "grid_template_rows": null,
            "right": null,
            "justify_content": null,
            "_view_module": "@jupyter-widgets/base",
            "overflow": null,
            "_model_module_version": "1.2.0",
            "_view_count": null,
            "flex_flow": null,
            "width": null,
            "min_width": null,
            "border": null,
            "align_items": null,
            "bottom": null,
            "_model_module": "@jupyter-widgets/base",
            "top": null,
            "grid_column": null,
            "overflow_y": null,
            "overflow_x": null,
            "grid_auto_flow": null,
            "grid_area": null,
            "grid_template_columns": null,
            "flex": null,
            "_model_name": "LayoutModel",
            "justify_items": null,
            "grid_row": null,
            "max_height": null,
            "align_content": null,
            "visibility": null,
            "align_self": null,
            "height": null,
            "min_height": null,
            "padding": null,
            "grid_auto_rows": null,
            "grid_gap": null,
            "max_width": null,
            "order": null,
            "_view_module_version": "1.2.0",
            "grid_template_areas": null,
            "object_position": null,
            "object_fit": null,
            "grid_auto_columns": null,
            "margin": null,
            "display": null,
            "left": null
          }
        },
        "41fd989bef544b05834461acd915826e": {
          "model_module": "@jupyter-widgets/controls",
          "model_name": "ProgressStyleModel",
          "model_module_version": "1.5.0",
          "state": {
            "_view_name": "StyleView",
            "_model_name": "ProgressStyleModel",
            "description_width": "",
            "_view_module": "@jupyter-widgets/base",
            "_model_module_version": "1.5.0",
            "_view_count": null,
            "_view_module_version": "1.2.0",
            "bar_color": null,
            "_model_module": "@jupyter-widgets/controls"
          }
        },
        "7e0dd5c01e52401eaa899bc4452b1228": {
          "model_module": "@jupyter-widgets/base",
          "model_name": "LayoutModel",
          "model_module_version": "1.2.0",
          "state": {
            "_view_name": "LayoutView",
            "grid_template_rows": null,
            "right": null,
            "justify_content": null,
            "_view_module": "@jupyter-widgets/base",
            "overflow": null,
            "_model_module_version": "1.2.0",
            "_view_count": null,
            "flex_flow": null,
            "width": null,
            "min_width": null,
            "border": null,
            "align_items": null,
            "bottom": null,
            "_model_module": "@jupyter-widgets/base",
            "top": null,
            "grid_column": null,
            "overflow_y": null,
            "overflow_x": null,
            "grid_auto_flow": null,
            "grid_area": null,
            "grid_template_columns": null,
            "flex": null,
            "_model_name": "LayoutModel",
            "justify_items": null,
            "grid_row": null,
            "max_height": null,
            "align_content": null,
            "visibility": null,
            "align_self": null,
            "height": null,
            "min_height": null,
            "padding": null,
            "grid_auto_rows": null,
            "grid_gap": null,
            "max_width": null,
            "order": null,
            "_view_module_version": "1.2.0",
            "grid_template_areas": null,
            "object_position": null,
            "object_fit": null,
            "grid_auto_columns": null,
            "margin": null,
            "display": null,
            "left": null
          }
        },
        "1dbb8eb6a63d440eb1a8213547da5a62": {
          "model_module": "@jupyter-widgets/controls",
          "model_name": "DescriptionStyleModel",
          "model_module_version": "1.5.0",
          "state": {
            "_view_name": "StyleView",
            "_model_name": "DescriptionStyleModel",
            "description_width": "",
            "_view_module": "@jupyter-widgets/base",
            "_model_module_version": "1.5.0",
            "_view_count": null,
            "_view_module_version": "1.2.0",
            "_model_module": "@jupyter-widgets/controls"
          }
        },
        "1e02e3edfe5f42c89197cd6484c334a0": {
          "model_module": "@jupyter-widgets/base",
          "model_name": "LayoutModel",
          "model_module_version": "1.2.0",
          "state": {
            "_view_name": "LayoutView",
            "grid_template_rows": null,
            "right": null,
            "justify_content": null,
            "_view_module": "@jupyter-widgets/base",
            "overflow": null,
            "_model_module_version": "1.2.0",
            "_view_count": null,
            "flex_flow": null,
            "width": null,
            "min_width": null,
            "border": null,
            "align_items": null,
            "bottom": null,
            "_model_module": "@jupyter-widgets/base",
            "top": null,
            "grid_column": null,
            "overflow_y": null,
            "overflow_x": null,
            "grid_auto_flow": null,
            "grid_area": null,
            "grid_template_columns": null,
            "flex": null,
            "_model_name": "LayoutModel",
            "justify_items": null,
            "grid_row": null,
            "max_height": null,
            "align_content": null,
            "visibility": null,
            "align_self": null,
            "height": null,
            "min_height": null,
            "padding": null,
            "grid_auto_rows": null,
            "grid_gap": null,
            "max_width": null,
            "order": null,
            "_view_module_version": "1.2.0",
            "grid_template_areas": null,
            "object_position": null,
            "object_fit": null,
            "grid_auto_columns": null,
            "margin": null,
            "display": null,
            "left": null
          }
        },
        "712d0c3eb4b044b4b06f92c3f03ec2df": {
          "model_module": "@jupyter-widgets/controls",
          "model_name": "HBoxModel",
          "model_module_version": "1.5.0",
          "state": {
            "_view_name": "HBoxView",
            "_dom_classes": [],
            "_model_name": "HBoxModel",
            "_view_module": "@jupyter-widgets/controls",
            "_model_module_version": "1.5.0",
            "_view_count": null,
            "_view_module_version": "1.5.0",
            "box_style": "",
            "layout": "IPY_MODEL_ff38c64efcde4bf08a0ea332885e17b2",
            "_model_module": "@jupyter-widgets/controls",
            "children": [
              "IPY_MODEL_a854467251c74e2fb0d0df1b5890a440",
              "IPY_MODEL_fbe431d6aa2e4be78e535520aacaf9ea",
              "IPY_MODEL_1d350356a0c14ff18892bfc6aa8585ec"
            ]
          }
        },
        "ff38c64efcde4bf08a0ea332885e17b2": {
          "model_module": "@jupyter-widgets/base",
          "model_name": "LayoutModel",
          "model_module_version": "1.2.0",
          "state": {
            "_view_name": "LayoutView",
            "grid_template_rows": null,
            "right": null,
            "justify_content": null,
            "_view_module": "@jupyter-widgets/base",
            "overflow": null,
            "_model_module_version": "1.2.0",
            "_view_count": null,
            "flex_flow": null,
            "width": null,
            "min_width": null,
            "border": null,
            "align_items": null,
            "bottom": null,
            "_model_module": "@jupyter-widgets/base",
            "top": null,
            "grid_column": null,
            "overflow_y": null,
            "overflow_x": null,
            "grid_auto_flow": null,
            "grid_area": null,
            "grid_template_columns": null,
            "flex": null,
            "_model_name": "LayoutModel",
            "justify_items": null,
            "grid_row": null,
            "max_height": null,
            "align_content": null,
            "visibility": null,
            "align_self": null,
            "height": null,
            "min_height": null,
            "padding": null,
            "grid_auto_rows": null,
            "grid_gap": null,
            "max_width": null,
            "order": null,
            "_view_module_version": "1.2.0",
            "grid_template_areas": null,
            "object_position": null,
            "object_fit": null,
            "grid_auto_columns": null,
            "margin": null,
            "display": null,
            "left": null
          }
        },
        "a854467251c74e2fb0d0df1b5890a440": {
          "model_module": "@jupyter-widgets/controls",
          "model_name": "HTMLModel",
          "model_module_version": "1.5.0",
          "state": {
            "_view_name": "HTMLView",
            "style": "IPY_MODEL_4fea0d88230e4e9bb434c9ee748305db",
            "_dom_classes": [],
            "description": "",
            "_model_name": "HTMLModel",
            "placeholder": "​",
            "_view_module": "@jupyter-widgets/controls",
            "_model_module_version": "1.5.0",
            "value": "100%",
            "_view_count": null,
            "_view_module_version": "1.5.0",
            "description_tooltip": null,
            "_model_module": "@jupyter-widgets/controls",
            "layout": "IPY_MODEL_c867fecda7404071a679b7e9d8e4e485"
          }
        },
        "fbe431d6aa2e4be78e535520aacaf9ea": {
          "model_module": "@jupyter-widgets/controls",
          "model_name": "FloatProgressModel",
          "model_module_version": "1.5.0",
          "state": {
            "_view_name": "ProgressView",
            "style": "IPY_MODEL_10d291e70828418798191f37fd47e070",
            "_dom_classes": [],
            "description": "",
            "_model_name": "FloatProgressModel",
            "bar_style": "success",
            "max": 10,
            "_view_module": "@jupyter-widgets/controls",
            "_model_module_version": "1.5.0",
            "value": 10,
            "_view_count": null,
            "_view_module_version": "1.5.0",
            "orientation": "horizontal",
            "min": 0,
            "description_tooltip": null,
            "_model_module": "@jupyter-widgets/controls",
            "layout": "IPY_MODEL_1f9e8c8ed4cf455ca8865a85a1ce59e0"
          }
        },
        "1d350356a0c14ff18892bfc6aa8585ec": {
          "model_module": "@jupyter-widgets/controls",
          "model_name": "HTMLModel",
          "model_module_version": "1.5.0",
          "state": {
            "_view_name": "HTMLView",
            "style": "IPY_MODEL_555ccd56b4c346bcad81bc4ed244fa55",
            "_dom_classes": [],
            "description": "",
            "_model_name": "HTMLModel",
            "placeholder": "​",
            "_view_module": "@jupyter-widgets/controls",
            "_model_module_version": "1.5.0",
            "value": " 10/10 [00:00&lt;00:00, 11.04it/s]",
            "_view_count": null,
            "_view_module_version": "1.5.0",
            "description_tooltip": null,
            "_model_module": "@jupyter-widgets/controls",
            "layout": "IPY_MODEL_b0704c2a460043eea4c1cb509d088bc5"
          }
        },
        "4fea0d88230e4e9bb434c9ee748305db": {
          "model_module": "@jupyter-widgets/controls",
          "model_name": "DescriptionStyleModel",
          "model_module_version": "1.5.0",
          "state": {
            "_view_name": "StyleView",
            "_model_name": "DescriptionStyleModel",
            "description_width": "",
            "_view_module": "@jupyter-widgets/base",
            "_model_module_version": "1.5.0",
            "_view_count": null,
            "_view_module_version": "1.2.0",
            "_model_module": "@jupyter-widgets/controls"
          }
        },
        "c867fecda7404071a679b7e9d8e4e485": {
          "model_module": "@jupyter-widgets/base",
          "model_name": "LayoutModel",
          "model_module_version": "1.2.0",
          "state": {
            "_view_name": "LayoutView",
            "grid_template_rows": null,
            "right": null,
            "justify_content": null,
            "_view_module": "@jupyter-widgets/base",
            "overflow": null,
            "_model_module_version": "1.2.0",
            "_view_count": null,
            "flex_flow": null,
            "width": null,
            "min_width": null,
            "border": null,
            "align_items": null,
            "bottom": null,
            "_model_module": "@jupyter-widgets/base",
            "top": null,
            "grid_column": null,
            "overflow_y": null,
            "overflow_x": null,
            "grid_auto_flow": null,
            "grid_area": null,
            "grid_template_columns": null,
            "flex": null,
            "_model_name": "LayoutModel",
            "justify_items": null,
            "grid_row": null,
            "max_height": null,
            "align_content": null,
            "visibility": null,
            "align_self": null,
            "height": null,
            "min_height": null,
            "padding": null,
            "grid_auto_rows": null,
            "grid_gap": null,
            "max_width": null,
            "order": null,
            "_view_module_version": "1.2.0",
            "grid_template_areas": null,
            "object_position": null,
            "object_fit": null,
            "grid_auto_columns": null,
            "margin": null,
            "display": null,
            "left": null
          }
        },
        "10d291e70828418798191f37fd47e070": {
          "model_module": "@jupyter-widgets/controls",
          "model_name": "ProgressStyleModel",
          "model_module_version": "1.5.0",
          "state": {
            "_view_name": "StyleView",
            "_model_name": "ProgressStyleModel",
            "description_width": "",
            "_view_module": "@jupyter-widgets/base",
            "_model_module_version": "1.5.0",
            "_view_count": null,
            "_view_module_version": "1.2.0",
            "bar_color": null,
            "_model_module": "@jupyter-widgets/controls"
          }
        },
        "1f9e8c8ed4cf455ca8865a85a1ce59e0": {
          "model_module": "@jupyter-widgets/base",
          "model_name": "LayoutModel",
          "model_module_version": "1.2.0",
          "state": {
            "_view_name": "LayoutView",
            "grid_template_rows": null,
            "right": null,
            "justify_content": null,
            "_view_module": "@jupyter-widgets/base",
            "overflow": null,
            "_model_module_version": "1.2.0",
            "_view_count": null,
            "flex_flow": null,
            "width": null,
            "min_width": null,
            "border": null,
            "align_items": null,
            "bottom": null,
            "_model_module": "@jupyter-widgets/base",
            "top": null,
            "grid_column": null,
            "overflow_y": null,
            "overflow_x": null,
            "grid_auto_flow": null,
            "grid_area": null,
            "grid_template_columns": null,
            "flex": null,
            "_model_name": "LayoutModel",
            "justify_items": null,
            "grid_row": null,
            "max_height": null,
            "align_content": null,
            "visibility": null,
            "align_self": null,
            "height": null,
            "min_height": null,
            "padding": null,
            "grid_auto_rows": null,
            "grid_gap": null,
            "max_width": null,
            "order": null,
            "_view_module_version": "1.2.0",
            "grid_template_areas": null,
            "object_position": null,
            "object_fit": null,
            "grid_auto_columns": null,
            "margin": null,
            "display": null,
            "left": null
          }
        },
        "555ccd56b4c346bcad81bc4ed244fa55": {
          "model_module": "@jupyter-widgets/controls",
          "model_name": "DescriptionStyleModel",
          "model_module_version": "1.5.0",
          "state": {
            "_view_name": "StyleView",
            "_model_name": "DescriptionStyleModel",
            "description_width": "",
            "_view_module": "@jupyter-widgets/base",
            "_model_module_version": "1.5.0",
            "_view_count": null,
            "_view_module_version": "1.2.0",
            "_model_module": "@jupyter-widgets/controls"
          }
        },
        "b0704c2a460043eea4c1cb509d088bc5": {
          "model_module": "@jupyter-widgets/base",
          "model_name": "LayoutModel",
          "model_module_version": "1.2.0",
          "state": {
            "_view_name": "LayoutView",
            "grid_template_rows": null,
            "right": null,
            "justify_content": null,
            "_view_module": "@jupyter-widgets/base",
            "overflow": null,
            "_model_module_version": "1.2.0",
            "_view_count": null,
            "flex_flow": null,
            "width": null,
            "min_width": null,
            "border": null,
            "align_items": null,
            "bottom": null,
            "_model_module": "@jupyter-widgets/base",
            "top": null,
            "grid_column": null,
            "overflow_y": null,
            "overflow_x": null,
            "grid_auto_flow": null,
            "grid_area": null,
            "grid_template_columns": null,
            "flex": null,
            "_model_name": "LayoutModel",
            "justify_items": null,
            "grid_row": null,
            "max_height": null,
            "align_content": null,
            "visibility": null,
            "align_self": null,
            "height": null,
            "min_height": null,
            "padding": null,
            "grid_auto_rows": null,
            "grid_gap": null,
            "max_width": null,
            "order": null,
            "_view_module_version": "1.2.0",
            "grid_template_areas": null,
            "object_position": null,
            "object_fit": null,
            "grid_auto_columns": null,
            "margin": null,
            "display": null,
            "left": null
          }
        },
        "268b95fdadac441c9693c4243c156299": {
          "model_module": "@jupyter-widgets/controls",
          "model_name": "HBoxModel",
          "model_module_version": "1.5.0",
          "state": {
            "_view_name": "HBoxView",
            "_dom_classes": [],
            "_model_name": "HBoxModel",
            "_view_module": "@jupyter-widgets/controls",
            "_model_module_version": "1.5.0",
            "_view_count": null,
            "_view_module_version": "1.5.0",
            "box_style": "",
            "layout": "IPY_MODEL_f6cbddaa732b4169982d173f60105625",
            "_model_module": "@jupyter-widgets/controls",
            "children": [
              "IPY_MODEL_d45fc00de59a4dfe91e568d7d5da86eb",
              "IPY_MODEL_8d0e4ff89f0c4516b6aace87ac795bd0",
              "IPY_MODEL_2a8a3f82c1414528bcedefb084eb53ab"
            ]
          }
        },
        "f6cbddaa732b4169982d173f60105625": {
          "model_module": "@jupyter-widgets/base",
          "model_name": "LayoutModel",
          "model_module_version": "1.2.0",
          "state": {
            "_view_name": "LayoutView",
            "grid_template_rows": null,
            "right": null,
            "justify_content": null,
            "_view_module": "@jupyter-widgets/base",
            "overflow": null,
            "_model_module_version": "1.2.0",
            "_view_count": null,
            "flex_flow": null,
            "width": null,
            "min_width": null,
            "border": null,
            "align_items": null,
            "bottom": null,
            "_model_module": "@jupyter-widgets/base",
            "top": null,
            "grid_column": null,
            "overflow_y": null,
            "overflow_x": null,
            "grid_auto_flow": null,
            "grid_area": null,
            "grid_template_columns": null,
            "flex": null,
            "_model_name": "LayoutModel",
            "justify_items": null,
            "grid_row": null,
            "max_height": null,
            "align_content": null,
            "visibility": null,
            "align_self": null,
            "height": null,
            "min_height": null,
            "padding": null,
            "grid_auto_rows": null,
            "grid_gap": null,
            "max_width": null,
            "order": null,
            "_view_module_version": "1.2.0",
            "grid_template_areas": null,
            "object_position": null,
            "object_fit": null,
            "grid_auto_columns": null,
            "margin": null,
            "display": null,
            "left": null
          }
        },
        "d45fc00de59a4dfe91e568d7d5da86eb": {
          "model_module": "@jupyter-widgets/controls",
          "model_name": "HTMLModel",
          "model_module_version": "1.5.0",
          "state": {
            "_view_name": "HTMLView",
            "style": "IPY_MODEL_52ba9715261d477983f0065df8ebe7ae",
            "_dom_classes": [],
            "description": "",
            "_model_name": "HTMLModel",
            "placeholder": "​",
            "_view_module": "@jupyter-widgets/controls",
            "_model_module_version": "1.5.0",
            "value": "100%",
            "_view_count": null,
            "_view_module_version": "1.5.0",
            "description_tooltip": null,
            "_model_module": "@jupyter-widgets/controls",
            "layout": "IPY_MODEL_ed77891259f947188257114174a99345"
          }
        },
        "8d0e4ff89f0c4516b6aace87ac795bd0": {
          "model_module": "@jupyter-widgets/controls",
          "model_name": "FloatProgressModel",
          "model_module_version": "1.5.0",
          "state": {
            "_view_name": "ProgressView",
            "style": "IPY_MODEL_a38621493a174551b59ff80864e6b993",
            "_dom_classes": [],
            "description": "",
            "_model_name": "FloatProgressModel",
            "bar_style": "success",
            "max": 10,
            "_view_module": "@jupyter-widgets/controls",
            "_model_module_version": "1.5.0",
            "value": 10,
            "_view_count": null,
            "_view_module_version": "1.5.0",
            "orientation": "horizontal",
            "min": 0,
            "description_tooltip": null,
            "_model_module": "@jupyter-widgets/controls",
            "layout": "IPY_MODEL_8b97f8c1da0c46a189fac67c7156bc5a"
          }
        },
        "2a8a3f82c1414528bcedefb084eb53ab": {
          "model_module": "@jupyter-widgets/controls",
          "model_name": "HTMLModel",
          "model_module_version": "1.5.0",
          "state": {
            "_view_name": "HTMLView",
            "style": "IPY_MODEL_25addadf64e644739079605ad439f416",
            "_dom_classes": [],
            "description": "",
            "_model_name": "HTMLModel",
            "placeholder": "​",
            "_view_module": "@jupyter-widgets/controls",
            "_model_module_version": "1.5.0",
            "value": " 10/10 [00:00&lt;00:00, 10.97it/s]",
            "_view_count": null,
            "_view_module_version": "1.5.0",
            "description_tooltip": null,
            "_model_module": "@jupyter-widgets/controls",
            "layout": "IPY_MODEL_e67c5348beb448d9af3552295d50cbc8"
          }
        },
        "52ba9715261d477983f0065df8ebe7ae": {
          "model_module": "@jupyter-widgets/controls",
          "model_name": "DescriptionStyleModel",
          "model_module_version": "1.5.0",
          "state": {
            "_view_name": "StyleView",
            "_model_name": "DescriptionStyleModel",
            "description_width": "",
            "_view_module": "@jupyter-widgets/base",
            "_model_module_version": "1.5.0",
            "_view_count": null,
            "_view_module_version": "1.2.0",
            "_model_module": "@jupyter-widgets/controls"
          }
        },
        "ed77891259f947188257114174a99345": {
          "model_module": "@jupyter-widgets/base",
          "model_name": "LayoutModel",
          "model_module_version": "1.2.0",
          "state": {
            "_view_name": "LayoutView",
            "grid_template_rows": null,
            "right": null,
            "justify_content": null,
            "_view_module": "@jupyter-widgets/base",
            "overflow": null,
            "_model_module_version": "1.2.0",
            "_view_count": null,
            "flex_flow": null,
            "width": null,
            "min_width": null,
            "border": null,
            "align_items": null,
            "bottom": null,
            "_model_module": "@jupyter-widgets/base",
            "top": null,
            "grid_column": null,
            "overflow_y": null,
            "overflow_x": null,
            "grid_auto_flow": null,
            "grid_area": null,
            "grid_template_columns": null,
            "flex": null,
            "_model_name": "LayoutModel",
            "justify_items": null,
            "grid_row": null,
            "max_height": null,
            "align_content": null,
            "visibility": null,
            "align_self": null,
            "height": null,
            "min_height": null,
            "padding": null,
            "grid_auto_rows": null,
            "grid_gap": null,
            "max_width": null,
            "order": null,
            "_view_module_version": "1.2.0",
            "grid_template_areas": null,
            "object_position": null,
            "object_fit": null,
            "grid_auto_columns": null,
            "margin": null,
            "display": null,
            "left": null
          }
        },
        "a38621493a174551b59ff80864e6b993": {
          "model_module": "@jupyter-widgets/controls",
          "model_name": "ProgressStyleModel",
          "model_module_version": "1.5.0",
          "state": {
            "_view_name": "StyleView",
            "_model_name": "ProgressStyleModel",
            "description_width": "",
            "_view_module": "@jupyter-widgets/base",
            "_model_module_version": "1.5.0",
            "_view_count": null,
            "_view_module_version": "1.2.0",
            "bar_color": null,
            "_model_module": "@jupyter-widgets/controls"
          }
        },
        "8b97f8c1da0c46a189fac67c7156bc5a": {
          "model_module": "@jupyter-widgets/base",
          "model_name": "LayoutModel",
          "model_module_version": "1.2.0",
          "state": {
            "_view_name": "LayoutView",
            "grid_template_rows": null,
            "right": null,
            "justify_content": null,
            "_view_module": "@jupyter-widgets/base",
            "overflow": null,
            "_model_module_version": "1.2.0",
            "_view_count": null,
            "flex_flow": null,
            "width": null,
            "min_width": null,
            "border": null,
            "align_items": null,
            "bottom": null,
            "_model_module": "@jupyter-widgets/base",
            "top": null,
            "grid_column": null,
            "overflow_y": null,
            "overflow_x": null,
            "grid_auto_flow": null,
            "grid_area": null,
            "grid_template_columns": null,
            "flex": null,
            "_model_name": "LayoutModel",
            "justify_items": null,
            "grid_row": null,
            "max_height": null,
            "align_content": null,
            "visibility": null,
            "align_self": null,
            "height": null,
            "min_height": null,
            "padding": null,
            "grid_auto_rows": null,
            "grid_gap": null,
            "max_width": null,
            "order": null,
            "_view_module_version": "1.2.0",
            "grid_template_areas": null,
            "object_position": null,
            "object_fit": null,
            "grid_auto_columns": null,
            "margin": null,
            "display": null,
            "left": null
          }
        },
        "25addadf64e644739079605ad439f416": {
          "model_module": "@jupyter-widgets/controls",
          "model_name": "DescriptionStyleModel",
          "model_module_version": "1.5.0",
          "state": {
            "_view_name": "StyleView",
            "_model_name": "DescriptionStyleModel",
            "description_width": "",
            "_view_module": "@jupyter-widgets/base",
            "_model_module_version": "1.5.0",
            "_view_count": null,
            "_view_module_version": "1.2.0",
            "_model_module": "@jupyter-widgets/controls"
          }
        },
        "e67c5348beb448d9af3552295d50cbc8": {
          "model_module": "@jupyter-widgets/base",
          "model_name": "LayoutModel",
          "model_module_version": "1.2.0",
          "state": {
            "_view_name": "LayoutView",
            "grid_template_rows": null,
            "right": null,
            "justify_content": null,
            "_view_module": "@jupyter-widgets/base",
            "overflow": null,
            "_model_module_version": "1.2.0",
            "_view_count": null,
            "flex_flow": null,
            "width": null,
            "min_width": null,
            "border": null,
            "align_items": null,
            "bottom": null,
            "_model_module": "@jupyter-widgets/base",
            "top": null,
            "grid_column": null,
            "overflow_y": null,
            "overflow_x": null,
            "grid_auto_flow": null,
            "grid_area": null,
            "grid_template_columns": null,
            "flex": null,
            "_model_name": "LayoutModel",
            "justify_items": null,
            "grid_row": null,
            "max_height": null,
            "align_content": null,
            "visibility": null,
            "align_self": null,
            "height": null,
            "min_height": null,
            "padding": null,
            "grid_auto_rows": null,
            "grid_gap": null,
            "max_width": null,
            "order": null,
            "_view_module_version": "1.2.0",
            "grid_template_areas": null,
            "object_position": null,
            "object_fit": null,
            "grid_auto_columns": null,
            "margin": null,
            "display": null,
            "left": null
          }
        },
        "d25ea9c24ff946b0917a2742bbf8741c": {
          "model_module": "@jupyter-widgets/controls",
          "model_name": "HBoxModel",
          "model_module_version": "1.5.0",
          "state": {
            "_view_name": "HBoxView",
            "_dom_classes": [],
            "_model_name": "HBoxModel",
            "_view_module": "@jupyter-widgets/controls",
            "_model_module_version": "1.5.0",
            "_view_count": null,
            "_view_module_version": "1.5.0",
            "box_style": "",
            "layout": "IPY_MODEL_ab57c9d29f36467188514336b696f3ec",
            "_model_module": "@jupyter-widgets/controls",
            "children": [
              "IPY_MODEL_03d2edf97a9a48e0b1525615f4772606",
              "IPY_MODEL_c6c92160728d4e509a95316f80aca179",
              "IPY_MODEL_3483b317642548d185ae36c90048b22c"
            ]
          }
        },
        "ab57c9d29f36467188514336b696f3ec": {
          "model_module": "@jupyter-widgets/base",
          "model_name": "LayoutModel",
          "model_module_version": "1.2.0",
          "state": {
            "_view_name": "LayoutView",
            "grid_template_rows": null,
            "right": null,
            "justify_content": null,
            "_view_module": "@jupyter-widgets/base",
            "overflow": null,
            "_model_module_version": "1.2.0",
            "_view_count": null,
            "flex_flow": null,
            "width": null,
            "min_width": null,
            "border": null,
            "align_items": null,
            "bottom": null,
            "_model_module": "@jupyter-widgets/base",
            "top": null,
            "grid_column": null,
            "overflow_y": null,
            "overflow_x": null,
            "grid_auto_flow": null,
            "grid_area": null,
            "grid_template_columns": null,
            "flex": null,
            "_model_name": "LayoutModel",
            "justify_items": null,
            "grid_row": null,
            "max_height": null,
            "align_content": null,
            "visibility": null,
            "align_self": null,
            "height": null,
            "min_height": null,
            "padding": null,
            "grid_auto_rows": null,
            "grid_gap": null,
            "max_width": null,
            "order": null,
            "_view_module_version": "1.2.0",
            "grid_template_areas": null,
            "object_position": null,
            "object_fit": null,
            "grid_auto_columns": null,
            "margin": null,
            "display": null,
            "left": null
          }
        },
        "03d2edf97a9a48e0b1525615f4772606": {
          "model_module": "@jupyter-widgets/controls",
          "model_name": "HTMLModel",
          "model_module_version": "1.5.0",
          "state": {
            "_view_name": "HTMLView",
            "style": "IPY_MODEL_902e117f711a4461a6b920c3d82c53b1",
            "_dom_classes": [],
            "description": "",
            "_model_name": "HTMLModel",
            "placeholder": "​",
            "_view_module": "@jupyter-widgets/controls",
            "_model_module_version": "1.5.0",
            "value": "100%",
            "_view_count": null,
            "_view_module_version": "1.5.0",
            "description_tooltip": null,
            "_model_module": "@jupyter-widgets/controls",
            "layout": "IPY_MODEL_b295fa47e9ad459999c13756498bd790"
          }
        },
        "c6c92160728d4e509a95316f80aca179": {
          "model_module": "@jupyter-widgets/controls",
          "model_name": "FloatProgressModel",
          "model_module_version": "1.5.0",
          "state": {
            "_view_name": "ProgressView",
            "style": "IPY_MODEL_b8fbe1da610e4b0297ecb59e3d57ee73",
            "_dom_classes": [],
            "description": "",
            "_model_name": "FloatProgressModel",
            "bar_style": "success",
            "max": 10,
            "_view_module": "@jupyter-widgets/controls",
            "_model_module_version": "1.5.0",
            "value": 10,
            "_view_count": null,
            "_view_module_version": "1.5.0",
            "orientation": "horizontal",
            "min": 0,
            "description_tooltip": null,
            "_model_module": "@jupyter-widgets/controls",
            "layout": "IPY_MODEL_0636aeff31bf4685ae33136746d0e5b8"
          }
        },
        "3483b317642548d185ae36c90048b22c": {
          "model_module": "@jupyter-widgets/controls",
          "model_name": "HTMLModel",
          "model_module_version": "1.5.0",
          "state": {
            "_view_name": "HTMLView",
            "style": "IPY_MODEL_a13f78d501bb449b971cfcf2a9f08d79",
            "_dom_classes": [],
            "description": "",
            "_model_name": "HTMLModel",
            "placeholder": "​",
            "_view_module": "@jupyter-widgets/controls",
            "_model_module_version": "1.5.0",
            "value": " 10/10 [00:00&lt;00:00, 10.81it/s]",
            "_view_count": null,
            "_view_module_version": "1.5.0",
            "description_tooltip": null,
            "_model_module": "@jupyter-widgets/controls",
            "layout": "IPY_MODEL_09a024cd9da447dd96c45b9a741f4c2c"
          }
        },
        "902e117f711a4461a6b920c3d82c53b1": {
          "model_module": "@jupyter-widgets/controls",
          "model_name": "DescriptionStyleModel",
          "model_module_version": "1.5.0",
          "state": {
            "_view_name": "StyleView",
            "_model_name": "DescriptionStyleModel",
            "description_width": "",
            "_view_module": "@jupyter-widgets/base",
            "_model_module_version": "1.5.0",
            "_view_count": null,
            "_view_module_version": "1.2.0",
            "_model_module": "@jupyter-widgets/controls"
          }
        },
        "b295fa47e9ad459999c13756498bd790": {
          "model_module": "@jupyter-widgets/base",
          "model_name": "LayoutModel",
          "model_module_version": "1.2.0",
          "state": {
            "_view_name": "LayoutView",
            "grid_template_rows": null,
            "right": null,
            "justify_content": null,
            "_view_module": "@jupyter-widgets/base",
            "overflow": null,
            "_model_module_version": "1.2.0",
            "_view_count": null,
            "flex_flow": null,
            "width": null,
            "min_width": null,
            "border": null,
            "align_items": null,
            "bottom": null,
            "_model_module": "@jupyter-widgets/base",
            "top": null,
            "grid_column": null,
            "overflow_y": null,
            "overflow_x": null,
            "grid_auto_flow": null,
            "grid_area": null,
            "grid_template_columns": null,
            "flex": null,
            "_model_name": "LayoutModel",
            "justify_items": null,
            "grid_row": null,
            "max_height": null,
            "align_content": null,
            "visibility": null,
            "align_self": null,
            "height": null,
            "min_height": null,
            "padding": null,
            "grid_auto_rows": null,
            "grid_gap": null,
            "max_width": null,
            "order": null,
            "_view_module_version": "1.2.0",
            "grid_template_areas": null,
            "object_position": null,
            "object_fit": null,
            "grid_auto_columns": null,
            "margin": null,
            "display": null,
            "left": null
          }
        },
        "b8fbe1da610e4b0297ecb59e3d57ee73": {
          "model_module": "@jupyter-widgets/controls",
          "model_name": "ProgressStyleModel",
          "model_module_version": "1.5.0",
          "state": {
            "_view_name": "StyleView",
            "_model_name": "ProgressStyleModel",
            "description_width": "",
            "_view_module": "@jupyter-widgets/base",
            "_model_module_version": "1.5.0",
            "_view_count": null,
            "_view_module_version": "1.2.0",
            "bar_color": null,
            "_model_module": "@jupyter-widgets/controls"
          }
        },
        "0636aeff31bf4685ae33136746d0e5b8": {
          "model_module": "@jupyter-widgets/base",
          "model_name": "LayoutModel",
          "model_module_version": "1.2.0",
          "state": {
            "_view_name": "LayoutView",
            "grid_template_rows": null,
            "right": null,
            "justify_content": null,
            "_view_module": "@jupyter-widgets/base",
            "overflow": null,
            "_model_module_version": "1.2.0",
            "_view_count": null,
            "flex_flow": null,
            "width": null,
            "min_width": null,
            "border": null,
            "align_items": null,
            "bottom": null,
            "_model_module": "@jupyter-widgets/base",
            "top": null,
            "grid_column": null,
            "overflow_y": null,
            "overflow_x": null,
            "grid_auto_flow": null,
            "grid_area": null,
            "grid_template_columns": null,
            "flex": null,
            "_model_name": "LayoutModel",
            "justify_items": null,
            "grid_row": null,
            "max_height": null,
            "align_content": null,
            "visibility": null,
            "align_self": null,
            "height": null,
            "min_height": null,
            "padding": null,
            "grid_auto_rows": null,
            "grid_gap": null,
            "max_width": null,
            "order": null,
            "_view_module_version": "1.2.0",
            "grid_template_areas": null,
            "object_position": null,
            "object_fit": null,
            "grid_auto_columns": null,
            "margin": null,
            "display": null,
            "left": null
          }
        },
        "a13f78d501bb449b971cfcf2a9f08d79": {
          "model_module": "@jupyter-widgets/controls",
          "model_name": "DescriptionStyleModel",
          "model_module_version": "1.5.0",
          "state": {
            "_view_name": "StyleView",
            "_model_name": "DescriptionStyleModel",
            "description_width": "",
            "_view_module": "@jupyter-widgets/base",
            "_model_module_version": "1.5.0",
            "_view_count": null,
            "_view_module_version": "1.2.0",
            "_model_module": "@jupyter-widgets/controls"
          }
        },
        "09a024cd9da447dd96c45b9a741f4c2c": {
          "model_module": "@jupyter-widgets/base",
          "model_name": "LayoutModel",
          "model_module_version": "1.2.0",
          "state": {
            "_view_name": "LayoutView",
            "grid_template_rows": null,
            "right": null,
            "justify_content": null,
            "_view_module": "@jupyter-widgets/base",
            "overflow": null,
            "_model_module_version": "1.2.0",
            "_view_count": null,
            "flex_flow": null,
            "width": null,
            "min_width": null,
            "border": null,
            "align_items": null,
            "bottom": null,
            "_model_module": "@jupyter-widgets/base",
            "top": null,
            "grid_column": null,
            "overflow_y": null,
            "overflow_x": null,
            "grid_auto_flow": null,
            "grid_area": null,
            "grid_template_columns": null,
            "flex": null,
            "_model_name": "LayoutModel",
            "justify_items": null,
            "grid_row": null,
            "max_height": null,
            "align_content": null,
            "visibility": null,
            "align_self": null,
            "height": null,
            "min_height": null,
            "padding": null,
            "grid_auto_rows": null,
            "grid_gap": null,
            "max_width": null,
            "order": null,
            "_view_module_version": "1.2.0",
            "grid_template_areas": null,
            "object_position": null,
            "object_fit": null,
            "grid_auto_columns": null,
            "margin": null,
            "display": null,
            "left": null
          }
        }
      }
    }
  },
  "nbformat": 4,
  "nbformat_minor": 0
}